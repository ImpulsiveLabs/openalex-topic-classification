{
 "cells": [
  {
   "cell_type": "code",
   "execution_count": 1,
   "id": "c0b4df3e",
   "metadata": {},
   "outputs": [],
   "source": [
    "import pickle\n",
    "import json\n",
    "import random\n",
    "import pandas as pd\n",
    "import numpy as np\n",
    "import pathlib\n",
    "import unicodedata"
   ]
  },
  {
   "cell_type": "markdown",
   "id": "016d71ca",
   "metadata": {},
   "source": [
    "#### Looking at L1 production gold citations"
   ]
  },
  {
   "cell_type": "code",
   "execution_count": 150,
   "id": "cae22bf4",
   "metadata": {},
   "outputs": [],
   "source": [
    "direct_gold = pd.read_parquet(\"<direct-gold-citations>\")"
   ]
  },
  {
   "cell_type": "code",
   "execution_count": 165,
   "id": "6ff76b74",
   "metadata": {},
   "outputs": [
    {
     "data": {
      "text/plain": [
       "(124577, 2)"
      ]
     },
     "execution_count": 165,
     "metadata": {},
     "output_type": "execute_result"
    }
   ],
   "source": [
    "# DF of gold citations\n",
    "gold_cites = direct_gold.drop_duplicates(subset=['gold_citation'])[['gold_citation']].copy()\n",
    "gold_cites['ind_col'] = 1\n",
    "gold_cites.shape"
   ]
  },
  {
   "cell_type": "code",
   "execution_count": 210,
   "id": "5f6b2a63",
   "metadata": {},
   "outputs": [],
   "source": [
    "def save_pickle(dictionary, file_path):\n",
    "    # Save the dictionary as a pickle file\n",
    "    with open(file_path, 'wb') as f:\n",
    "        pickle.dump(dictionary, f)"
   ]
  },
  {
   "cell_type": "code",
   "execution_count": 162,
   "id": "44b100f6",
   "metadata": {},
   "outputs": [],
   "source": [
    "def return_empty_list(some_list):\n",
    "    if isinstance(some_list, list):\n",
    "        return some_list\n",
    "    else:\n",
    "        return []"
   ]
  },
  {
   "cell_type": "code",
   "execution_count": 156,
   "id": "19b3b8e9",
   "metadata": {},
   "outputs": [
    {
     "data": {
      "text/plain": [
       "(39696933, 2)"
      ]
     },
     "execution_count": 156,
     "metadata": {},
     "output_type": "execute_result"
    }
   ],
   "source": [
    "# DF of works that cite a gold citation\n",
    "prod_cites = pd.read_parquet(\"<file-for-gold-citations>\", columns=['paper_id','new_L1_links'])\n",
    "prod_cites.shape"
   ]
  },
  {
   "cell_type": "code",
   "execution_count": 157,
   "id": "cd059f6c",
   "metadata": {},
   "outputs": [],
   "source": [
    "prod_cites['new_L1_links'] = prod_cites['new_L1_links'].apply(lambda x: x.tolist())"
   ]
  },
  {
   "cell_type": "code",
   "execution_count": 163,
   "id": "0009c544",
   "metadata": {},
   "outputs": [],
   "source": [
    "gold_merged = gold_cites.rename(columns={'gold_citation':'paper_id'})\\\n",
    "    .merge(prod_cites, how='left', on='paper_id')[['paper_id','new_L1_links']].copy()\n",
    "\n",
    "gold_merged['new_L1_links'] = gold_merged['new_L1_links'].apply(return_empty_list)"
   ]
  },
  {
   "cell_type": "code",
   "execution_count": 172,
   "id": "68e033bb",
   "metadata": {},
   "outputs": [
    {
     "data": {
      "text/plain": [
       "(39619175, 2)"
      ]
     },
     "execution_count": 172,
     "metadata": {},
     "output_type": "execute_result"
    }
   ],
   "source": [
    "non_gold_merged = prod_cites.merge(gold_cites.rename(columns={'gold_citation':'paper_id'}), \n",
    "                                   how='left', on='paper_id')\n",
    "non_gold_merged = non_gold_merged[non_gold_merged['ind_col']!=1.0][['paper_id','new_L1_links']].copy()\n",
    "non_gold_merged.shape"
   ]
  },
  {
   "cell_type": "code",
   "execution_count": 173,
   "id": "577ebcb0",
   "metadata": {},
   "outputs": [],
   "source": [
    "gold_dict = gold_merged.set_index('paper_id')['new_L1_links'].to_dict()"
   ]
  },
  {
   "cell_type": "code",
   "execution_count": 174,
   "id": "91f954ef",
   "metadata": {},
   "outputs": [],
   "source": [
    "non_gold_dict = non_gold_merged.set_index('paper_id')['new_L1_links'].to_dict()"
   ]
  },
  {
   "cell_type": "code",
   "execution_count": 211,
   "id": "d3032e7c",
   "metadata": {},
   "outputs": [],
   "source": [
    "_ = save_pickle(gold_dict, './full_model_iter6/model_artifacts/gold_citations_dict.pkl')"
   ]
  },
  {
   "cell_type": "code",
   "execution_count": 212,
   "id": "72c3d4a7",
   "metadata": {},
   "outputs": [],
   "source": [
    "_ = save_pickle(non_gold_dict, './full_model_iter6/model_artifacts/non_gold_citations_dict.pkl')"
   ]
  },
  {
   "cell_type": "code",
   "execution_count": 197,
   "id": "5663ef3b",
   "metadata": {},
   "outputs": [],
   "source": [
    "test_cites_text = \"\"\"https://openalex.org/W182557598\",\n",
    "\"https://openalex.org/W198469451\",\n",
    "\"https://openalex.org/W1480706413\",\n",
    "\"https://openalex.org/W1492376954\",\n",
    "\"https://openalex.org/W1495672122\",\n",
    "\"https://openalex.org/W1497663772\",\n",
    "\"https://openalex.org/W1498187417\",\n",
    "\"https://openalex.org/W1517051009\",\n",
    "\"https://openalex.org/W1520425169\",\n",
    "\"https://openalex.org/W1533713644\",\n",
    "\"https://openalex.org/W1538419182\",\n",
    "\"https://openalex.org/W1564805059\",\n",
    "\"https://openalex.org/W1573363574\",\n",
    "\"https://openalex.org/W1574254013\",\n",
    "\"https://openalex.org/W1594827217\",\n",
    "\"https://openalex.org/W1959848155\",\n",
    "\"https://openalex.org/W1963844966\",\n",
    "\"https://openalex.org/W1964081206\",\n",
    "\"https://openalex.org/W1964825240\",\n",
    "\"https://openalex.org/W1965038309\",\n",
    "\"https://openalex.org/W4230026896\",\n",
    "\"https://openalex.org/W4243903519\"\"\"\n",
    "\n",
    "test_cites = [int(x.replace(\"\"\"\\\"\"\"\", \"\").replace(',','').replace('\\n','')) for x in \n",
    "              test_cites_text.split(\"https://openalex.org/W\") if x !='']"
   ]
  },
  {
   "cell_type": "code",
   "execution_count": 200,
   "id": "8370f004",
   "metadata": {},
   "outputs": [
    {
     "data": {
      "text/plain": [
       "239"
      ]
     },
     "execution_count": 200,
     "metadata": {},
     "output_type": "execute_result"
    }
   ],
   "source": [
    "len(test_cites)"
   ]
  },
  {
   "cell_type": "code",
   "execution_count": 209,
   "id": "82ac1e92",
   "metadata": {},
   "outputs": [
    {
     "name": "stdout",
     "output_type": "stream",
     "text": [
      "CPU times: user 555 µs, sys: 100 µs, total: 655 µs\n",
      "Wall time: 669 µs\n"
     ]
    }
   ],
   "source": [
    "%%time\n",
    "level_0, level_1 = get_gold_citations_from_all_citations(test_cites, gold_dict, non_gold_dict)"
   ]
  },
  {
   "cell_type": "code",
   "execution_count": null,
   "id": "5f7e7291",
   "metadata": {},
   "outputs": [],
   "source": []
  }
 ],
 "metadata": {
  "kernelspec": {
   "display_name": "Python 3 (ipykernel)",
   "language": "python",
   "name": "python3"
  },
  "language_info": {
   "codemirror_mode": {
    "name": "ipython",
    "version": 3
   },
   "file_extension": ".py",
   "mimetype": "text/x-python",
   "name": "python",
   "nbconvert_exporter": "python",
   "pygments_lexer": "ipython3",
   "version": "3.10.13"
  }
 },
 "nbformat": 4,
 "nbformat_minor": 5
}
