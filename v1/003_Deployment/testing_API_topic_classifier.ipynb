{
 "cells": [
  {
   "cell_type": "code",
   "execution_count": 1,
   "id": "1220b8f6",
   "metadata": {},
   "outputs": [],
   "source": [
    "import time\n",
    "import requests\n",
    "import json\n",
    "import multiprocessing as mp\n",
    "import mag_functions as F\n",
    "from math import ceil"
   ]
  },
  {
   "cell_type": "code",
   "execution_count": 3,
   "id": "ebec953f",
   "metadata": {},
   "outputs": [],
   "source": [
    "# input that contains a single affiliation string to parse\n",
    "with open(\"test_json_single.json\", \"rb\") as f:\n",
    "    input_json = json.load(f)"
   ]
  },
  {
   "cell_type": "code",
   "execution_count": 48,
   "id": "bbffb748",
   "metadata": {},
   "outputs": [],
   "source": [
    "# input that contains hard samples to make sure the model does not return errors\n",
    "# with open(\"test_json_single_empty.json\", \"rb\") as f:\n",
    "#     input_json = json.load(f)"
   ]
  },
  {
   "cell_type": "code",
   "execution_count": 11,
   "id": "abc6b0f6",
   "metadata": {},
   "outputs": [],
   "source": [
    "# input that contains 6 affiliation strings to parse\n",
    "# with open(\"test_json_batch.json\", \"rb\") as f:\n",
    "#     input_json = json.load(f)"
   ]
  },
  {
   "cell_type": "markdown",
   "id": "3fc38f6e-a1b1-49b3-a13a-9e1e7c43d117",
   "metadata": {},
   "source": [
    "### Testing Through Sagemaker"
   ]
  },
  {
   "cell_type": "code",
   "execution_count": 1,
   "id": "338ac275-11c4-49bb-baf2-454e1102694b",
   "metadata": {},
   "outputs": [],
   "source": [
    "import boto3\n",
    "import json"
   ]
  },
  {
   "cell_type": "code",
   "execution_count": 22,
   "id": "db1fe78f-4d30-49b9-b5d1-d21d7e52079d",
   "metadata": {},
   "outputs": [],
   "source": [
    "sagemaker = boto3.client(\"sagemaker-runtime\", region_name=\"us-east-1\")\n",
    "\n",
    "endpoint_name='openalex-topic-classifier-v1-endpoint'"
   ]
  },
  {
   "cell_type": "code",
   "execution_count": 52,
   "id": "9ef0fcba-c2e7-494a-ba86-047da8c4f545",
   "metadata": {},
   "outputs": [
    {
     "name": "stdout",
     "output_type": "stream",
     "text": [
      "CPU times: user 34.9 ms, sys: 0 ns, total: 34.9 ms\n",
      "Wall time: 422 ms\n"
     ]
    }
   ],
   "source": [
    "%%time\n",
    "response = sagemaker.invoke_endpoint(\n",
    "                            EndpointName=endpoint_name, \n",
    "                            ContentType='application/json',\n",
    "                            Body=bytes(json.dumps(input_json), 'utf-8'))"
   ]
  },
  {
   "cell_type": "code",
   "execution_count": 21,
   "id": "3684ca52-f485-4b6e-925e-9dc843a5f137",
   "metadata": {},
   "outputs": [
    {
     "data": {
      "text/plain": [
       "'[[{\"topic_id\": 10829, \"topic_label\": \"829: Networks on Chip in System-on-Chip Design\", \"topic_score\": 0.9978}, {\"topic_id\": 10054, \"topic_label\": \"54: Parallel Computing and Performance Optimization\", \"topic_score\": 0.9963}, {\"topic_id\": 11522, \"topic_label\": \"1522: Design and Optimization of Field-Programmable Gate Arrays and Application-Specific Integrated Circuits\", \"topic_score\": 0.991}]]'"
      ]
     },
     "execution_count": 21,
     "metadata": {},
     "output_type": "execute_result"
    }
   ],
   "source": [
    "response['Body'].read().decode()"
   ]
  },
  {
   "cell_type": "markdown",
   "id": "e39ba980-4a17-454a-94bb-c497d8de1224",
   "metadata": {},
   "source": [
    "### Testing Through API"
   ]
  },
  {
   "cell_type": "code",
   "execution_count": 98,
   "id": "470fa408",
   "metadata": {},
   "outputs": [
    {
     "name": "stdout",
     "output_type": "stream",
     "text": [
      "CPU times: user 36.2 ms, sys: 0 ns, total: 36.2 ms\n",
      "Wall time: 956 ms\n"
     ]
    },
    {
     "data": {
      "text/plain": [
       "1"
      ]
     },
     "execution_count": 98,
     "metadata": {},
     "output_type": "execute_result"
    }
   ],
   "source": [
    "%%time\n",
    "# testing the call to the API one time\n",
    "len(json.loads(F.get_tags(input_json, 1)[1]))"
   ]
  },
  {
   "cell_type": "code",
   "execution_count": 12,
   "id": "8d4f4fa9-6ddc-4003-af21-e959a040f807",
   "metadata": {},
   "outputs": [
    {
     "data": {
      "text/plain": [
       "[[{'topic_id': 10829,\n",
       "   'topic_label': '829: Networks on Chip in System-on-Chip Design',\n",
       "   'topic_score': 0.9978},\n",
       "  {'topic_id': 10054,\n",
       "   'topic_label': '54: Parallel Computing and Performance Optimization',\n",
       "   'topic_score': 0.9963},\n",
       "  {'topic_id': 11522,\n",
       "   'topic_label': '1522: Design and Optimization of Field-Programmable Gate Arrays and Application-Specific Integrated Circuits',\n",
       "   'topic_score': 0.991},\n",
       "  {'topic_id': 12923,\n",
       "   'topic_label': '2923: Connected Component Labeling Algorithms',\n",
       "   'topic_score': 0.9897},\n",
       "  {'topic_id': 12292,\n",
       "   'topic_label': '2292: Graph Matching and Analysis Techniques',\n",
       "   'topic_score': 0.9872}]]"
      ]
     },
     "execution_count": 12,
     "metadata": {},
     "output_type": "execute_result"
    }
   ],
   "source": [
    "json.loads(F.get_tags(input_json, 1)[1])"
   ]
  },
  {
   "cell_type": "markdown",
   "id": "482fc5ff",
   "metadata": {},
   "source": [
    "### Test throughput with Locust"
   ]
  },
  {
   "cell_type": "code",
   "execution_count": null,
   "id": "e24b6a0e-2f3b-43e5-bfc2-dc5e8d95de06",
   "metadata": {},
   "outputs": [],
   "source": [
    "!locust --processes 4"
   ]
  },
  {
   "cell_type": "markdown",
   "id": "47d5db7f",
   "metadata": {},
   "source": [
    "### Testing API with data random queried OpenAlex data"
   ]
  },
  {
   "cell_type": "code",
   "execution_count": null,
   "id": "6f95a8ba",
   "metadata": {},
   "outputs": [],
   "source": [
    "%%time\n",
    "open_req = \"https://api.openalex.org/works/random\"\n",
    "resp = requests.get(open_req).json()\n",
    "print(resp['id'])"
   ]
  },
  {
   "cell_type": "code",
   "execution_count": null,
   "id": "e734a323-424f-4da8-a156-5aef1a45028d",
   "metadata": {},
   "outputs": [],
   "source": [
    "%%time\n",
    "open_req = \"https://api.openalex.org/works/W4205779344\"\n",
    "resp = requests.get(open_req).json()\n",
    "print(resp['id'])\n",
    "\n",
    "if resp['primary_location']['source']:\n",
    "    journal_display_name = resp['primary_location']['source']['display_name']\n",
    "else:\n",
    "    journal_display_name = \"\"\n",
    "\n",
    "\n",
    "input_json = [{'title': resp['title'], \n",
    "               'abstract_inverted_index': resp['abstract_inverted_index'], \n",
    "               'journal_display_name': journal_display_name, \n",
    "               'referenced_works': resp['referenced_works'],\n",
    "               'inverted': True}]\n",
    "\n",
    "model_res = sagemaker.invoke_endpoint(\n",
    "        EndpointName='openalex-topic-classifier-v1-endpoint',\n",
    "        Body=bytes(json.dumps(input_json), 'utf-8'),\n",
    "        ContentType='application/json',\n",
    "        Accept='Accept')\n",
    "print(input_json[0]['title'])\n",
    "print(\"\")\n",
    "for i in json.loads(model_res['Body'].read().decode())[0]:\n",
    "    print(i)"
   ]
  },
  {
   "cell_type": "code",
   "execution_count": null,
   "id": "7d6aa1b7-9486-473c-a8b1-e0897049db75",
   "metadata": {},
   "outputs": [],
   "source": []
  }
 ],
 "metadata": {
  "kernelspec": {
   "display_name": "Python 3 (ipykernel)",
   "language": "python",
   "name": "python3"
  },
  "language_info": {
   "codemirror_mode": {
    "name": "ipython",
    "version": 3
   },
   "file_extension": ".py",
   "mimetype": "text/x-python",
   "name": "python",
   "nbconvert_exporter": "python",
   "pygments_lexer": "ipython3",
   "version": "3.10.13"
  }
 },
 "nbformat": 4,
 "nbformat_minor": 5
}
