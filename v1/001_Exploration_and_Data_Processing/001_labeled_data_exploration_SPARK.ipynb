{
 "cells": [
  {
   "cell_type": "code",
   "execution_count": 0,
   "metadata": {
    "application/vnd.databricks.v1+cell": {
     "cellMetadata": {
      "byteLimit": 2048000,
      "rowLimit": 10000
     },
     "inputWidgets": {},
     "nuid": "44920190-9120-4ae8-858f-14f52b073315",
     "showTitle": false,
     "title": ""
    }
   },
   "outputs": [],
   "source": [
    "import pickle\n",
    "import boto3\n",
    "import re\n",
    "import json\n",
    "import random\n",
    "import pandas as pd\n",
    "import unicodedata\n",
    "pd.set_option('display.max_colwidth', None)\n",
    "import numpy as np\n",
    "import matplotlib.pyplot as plt"
   ]
  },
  {
   "cell_type": "code",
   "execution_count": 0,
   "metadata": {
    "application/vnd.databricks.v1+cell": {
     "cellMetadata": {
      "byteLimit": 2048000,
      "rowLimit": 10000
     },
     "inputWidgets": {},
     "nuid": "2ba961a2-7e64-4844-8d78-c47e5f47c752",
     "showTitle": false,
     "title": ""
    }
   },
   "outputs": [],
   "source": [
    "from pyspark.sql import functions as F\n",
    "from pyspark.sql.window import Window\n",
    "from pyspark.sql.types import IntegerType, StringType, FloatType, ArrayType, DoubleType, StructType, StructField,LongType"
   ]
  },
  {
   "cell_type": "code",
   "execution_count": 0,
   "metadata": {
    "application/vnd.databricks.v1+cell": {
     "cellMetadata": {
      "byteLimit": 2048000,
      "rowLimit": 10000
     },
     "inputWidgets": {},
     "nuid": "5f29191d-1059-4a1a-a42b-0a11e8599c1f",
     "showTitle": false,
     "title": ""
    }
   },
   "outputs": [],
   "source": [
    "base_save_path = \"{save_path_for_openalex_tables}\"\n",
    "iteration_save_path = \"{save_path_for_most_data}\""
   ]
  },
  {
   "cell_type": "markdown",
   "metadata": {
    "application/vnd.databricks.v1+cell": {
     "cellMetadata": {},
     "inputWidgets": {},
     "nuid": "47f9abef-de4b-45bd-8d74-3d30740105f2",
     "showTitle": false,
     "title": ""
    }
   },
   "source": [
    "### Getting all data"
   ]
  },
  {
   "cell_type": "code",
   "execution_count": 0,
   "metadata": {
    "application/vnd.databricks.v1+cell": {
     "cellMetadata": {
      "byteLimit": 2048000,
      "rowLimit": 10000
     },
     "inputWidgets": {},
     "nuid": "f3ac5ec3-42ae-4d60-ab64-a195564fe3cf",
     "showTitle": false,
     "title": ""
    }
   },
   "outputs": [
    {
     "data": {
      "text/plain": [
       "4521"
      ]
     },
     "execution_count": 4,
     "metadata": {},
     "output_type": "execute_result"
    }
   ],
   "source": [
    "classification_labels = spark.read.parquet(f'{iteration_save_path}topic_labels_data_from_cwts_new')\n",
    "classification_labels.cache().count()"
   ]
  },
  {
   "cell_type": "code",
   "execution_count": 0,
   "metadata": {
    "application/vnd.databricks.v1+cell": {
     "cellMetadata": {
      "byteLimit": 2048000,
      "rowLimit": 10000
     },
     "inputWidgets": {},
     "nuid": "efc9f79d-1a5b-456f-856b-b91f4bedb928",
     "showTitle": false,
     "title": ""
    }
   },
   "outputs": [
    {
     "name": "stdout",
     "output_type": "stream",
     "text": [
      "+----------------+--------------------+--------------------+--------------------+--------------------+--------------------+\n",
      "|micro_cluster_id|         short_label|          long_label|            keywords|             summary|       wikipedia_url|\n",
      "+----------------+--------------------+--------------------+--------------------+--------------------+--------------------+\n",
      "|            1490|Hydrological Mode...|Hydrological Mode...|Machine Learning;...|This cluster of p...|https://en.wikipe...|\n",
      "|            1276|   Solar Forecasting|Machine Learning ...|Solar Radiation; ...|This cluster of p...|https://en.wikipe...|\n",
      "|            1612|    Machine Learning|Optimization Meth...|Stochastic Gradie...|This cluster of p...|https://en.wikipe...|\n",
      "|            1975| Genetic Programming|Application of Ge...|Genetic Programmi...|This cluster of p...|https://en.wikipe...|\n",
      "|            1598|Internet Traffic ...|Machine Learning ...|Machine Learning;...|This cluster of p...|https://en.wikipe...|\n",
      "|            2535|Noisy Label Learning|Learning with Noi...|Noisy Labels; Hyp...|This cluster of p...|https://en.wikipe...|\n",
      "|            1550|Multi-label Text ...|Multi-label Text ...|Multi-label Learn...|This cluster of p...|https://en.wikipe...|\n",
      "|             764|Privacy-Preservin...|Privacy-Preservin...|Differential Priv...|This cluster of p...|https://en.wikipe...|\n",
      "|            2814|  Gaussian Processes|Gaussian Processe...|Gaussian Processe...|This cluster of p...|https://en.wikipe...|\n",
      "|            1396|    Machine Learning|Machine Learning ...|Machine Learning;...|This cluster of p...|https://en.wikipe...|\n",
      "|            2072|     Active Learning|Active Learning i...|Active Learning; ...|This cluster of p...|https://en.wikipe...|\n",
      "|            2157|Mineral Prospecti...|Machine Learning ...|Machine Learning;...|This cluster of p...|https://en.wikipe...|\n",
      "|            4064|    Smart Healthcare|Machine Learning ...|Machine Learning;...|This cluster of p...|https://en.wikipe...|\n",
      "|            3018|Earthquake Early ...|Machine Learning ...|Machine Learning;...|This cluster of p...|https://en.wikipe...|\n",
      "+----------------+--------------------+--------------------+--------------------+--------------------+--------------------+\n",
      "\n"
     ]
    }
   ],
   "source": [
    "classification_labels.filter(F.col('long_label').contains('Machine Learning')).show()"
   ]
  },
  {
   "cell_type": "code",
   "execution_count": 0,
   "metadata": {
    "application/vnd.databricks.v1+cell": {
     "cellMetadata": {
      "byteLimit": 2048000,
      "rowLimit": 10000
     },
     "inputWidgets": {},
     "nuid": "8e490758-57ab-4be1-9d56-e7a0789ab1a9",
     "showTitle": false,
     "title": ""
    }
   },
   "outputs": [
    {
     "data": {
      "text/plain": [
       "70674439"
      ]
     },
     "execution_count": 6,
     "metadata": {},
     "output_type": "execute_result"
    }
   ],
   "source": [
    "new_topic_labels = spark.read.parquet(f'{iteration_save_path}topics_data_from_cwts_new') \\\n",
    "    .select(F.col('work_id').cast(LongType()).alias('paper_id'), \n",
    "            F.col('macro_cluster_id').cast(IntegerType()),\n",
    "            F.col('meso_cluster_id').cast(IntegerType()),\n",
    "            F.col('micro_cluster_id').cast(IntegerType())) \\\n",
    "    .filter(F.col('paper_id').isNotNull() & \n",
    "            F.col('macro_cluster_id').isNotNull() & \n",
    "            F.col('meso_cluster_id').isNotNull() & \n",
    "            F.col('micro_cluster_id').isNotNull()) \\\n",
    "    .join(classification_labels, how='inner', on='micro_cluster_id')\n",
    "    \n",
    "new_topic_labels.cache().count()"
   ]
  },
  {
   "cell_type": "code",
   "execution_count": 0,
   "metadata": {
    "application/vnd.databricks.v1+cell": {
     "cellMetadata": {
      "byteLimit": 2048000,
      "rowLimit": 10000
     },
     "inputWidgets": {},
     "nuid": "79c472bd-8490-4f39-8c6d-1ef71a2922fd",
     "showTitle": false,
     "title": ""
    }
   },
   "outputs": [
    {
     "name": "stdout",
     "output_type": "stream",
     "text": [
      "4521\n",
      "917\n",
      "20\n"
     ]
    }
   ],
   "source": [
    "print(new_topic_labels.select('micro_cluster_id').distinct().count())\n",
    "print(new_topic_labels.select('meso_cluster_id').distinct().count())\n",
    "print(new_topic_labels.select('macro_cluster_id').distinct().count())"
   ]
  },
  {
   "cell_type": "code",
   "execution_count": 0,
   "metadata": {
    "application/vnd.databricks.v1+cell": {
     "cellMetadata": {
      "byteLimit": 2048000,
      "rowLimit": 10000
     },
     "inputWidgets": {},
     "nuid": "082eb6aa-81c6-4c1f-ad6a-18e369f14d6f",
     "showTitle": false,
     "title": ""
    }
   },
   "outputs": [
    {
     "name": "stdout",
     "output_type": "stream",
     "text": [
      "+-------------+\n",
      "|max(paper_id)|\n",
      "+-------------+\n",
      "|   4388814839|\n",
      "+-------------+\n",
      "\n"
     ]
    }
   ],
   "source": [
    "new_topic_labels.select(F.max(F.col('paper_id'))).show()"
   ]
  },
  {
   "cell_type": "code",
   "execution_count": 0,
   "metadata": {
    "application/vnd.databricks.v1+cell": {
     "cellMetadata": {
      "byteLimit": 2048000,
      "rowLimit": 10000
     },
     "inputWidgets": {},
     "nuid": "4e3a4713-8eea-4407-8bda-132a5de61248",
     "showTitle": false,
     "title": ""
    }
   },
   "outputs": [
    {
     "data": {
      "text/plain": [
       "245979831"
      ]
     },
     "execution_count": 9,
     "metadata": {},
     "output_type": "execute_result"
    }
   ],
   "source": [
    "works = spark.read.parquet(f\"{base_save_path}static_works\") \\\n",
    "    .dropDuplicates(subset=['paper_id'])\n",
    "\n",
    "works.cache().count()"
   ]
  },
  {
   "cell_type": "code",
   "execution_count": 0,
   "metadata": {
    "application/vnd.databricks.v1+cell": {
     "cellMetadata": {
      "byteLimit": 2048000,
      "rowLimit": 10000
     },
     "inputWidgets": {},
     "nuid": "7c5a91cc-69b6-4dd8-bd2f-46d7e08bd925",
     "showTitle": false,
     "title": ""
    }
   },
   "outputs": [
    {
     "name": "stdout",
     "output_type": "stream",
     "text": [
      "+----------------+--------------------+--------------------+--------------------+--------------------+--------------------+\n",
      "|micro_cluster_id|         short_label|          long_label|            keywords|             summary|       wikipedia_url|\n",
      "+----------------+--------------------+--------------------+--------------------+--------------------+--------------------+\n",
      "|             314|Intergroup Relations|Intergroup Relati...|Intergroup Contac...|This cluster of p...|https://en.wikipe...|\n",
      "|            4198|          Philosophy|Philosophy and So...|Philosophy; Socia...|This cluster of p...|https://en.wikipe...|\n",
      "|            1795|  Humor and Laughter|Psychological and...|Humor Styles Ques...|This cluster of p...|https://en.wikipe...|\n",
      "|            3162|  African Governance|Governance and So...|Africa; governanc...|This cluster of p...|https://en.wikipe...|\n",
      "|            3425|     Rural Education|Rural Education a...|Rural Education; ...|This cluster of p...|https://en.wikipe...|\n",
      "|            2488|Psychological Lan...|Psychological Lan...|Psychological Lan...|This cluster of p...|https://en.wikipe...|\n",
      "|            3207|  School Absenteeism|School Absenteeis...|School Absenteeis...|This cluster of p...|https://en.wikipe...|\n",
      "|             259|    Social Practices|Theory of Social ...|Qualitative Inhal...|This cluster of p...|https://en.wikipe...|\n",
      "|            2877|      Social Science|Social Science an...|Social Science; H...|This cluster of p...|https://en.wikipe...|\n",
      "|            3763|       Legal History|Legal and Social ...|Legal History; So...|This cluster of p...|https://en.wikipe...|\n",
      "|            2088|Intergenerational...|Intergenerational...|Intergenerational...|This cluster of p...|https://en.wikipe...|\n",
      "|            1197|       Online Gaming|Social and Psycho...|Online Gaming; Vi...|This cluster of p...|https://en.wikipe...|\n",
      "|            4107|     Social Sciences|Social Sciences a...|Social Sciences; ...|This cluster of p...|https://en.wikipe...|\n",
      "|            2036|    Cultural History|Cultural and Soci...|Argentina; Cultur...|This cluster of p...|https://en.wikipe...|\n",
      "|            3635|    Health Education|Health Education ...|Health Promotion;...|This cluster of p...|https://en.wikipe...|\n",
      "|            4061|Education and Soc...|Education and Soc...|Education; Social...|This cluster of p...|https://en.wikipe...|\n",
      "|            3968|Psychoanalysis an...|Psychoanalysis, P...|Psychoanalysis; P...|This cluster of p...|https://en.wikipe...|\n",
      "|            1120|  Prosocial Behavior|Multilevel Perspe...|Prosocial Behavio...|This cluster of p...|https://en.wikipe...|\n",
      "|            2736|    Criminal Justice|Criminal Justice ...|Criminal Justice;...|This cluster of p...|https://en.wikipe...|\n",
      "|            4023|      Social Systems|Understanding Soc...|Social Systems; R...|This cluster of p...|https://en.wikipe...|\n",
      "+----------------+--------------------+--------------------+--------------------+--------------------+--------------------+\n",
      "only showing top 20 rows\n",
      "\n"
     ]
    }
   ],
   "source": [
    "classification_labels.filter(F.lower(F.col('long_label')).contains('social')).show(20)"
   ]
  },
  {
   "cell_type": "markdown",
   "metadata": {},
   "source": [
    "### Looking at either samples from a specific random topic or looking at samples of all labeled data"
   ]
  },
  {
   "cell_type": "code",
   "execution_count": 0,
   "metadata": {
    "application/vnd.databricks.v1+cell": {
     "cellMetadata": {
      "byteLimit": 2048000,
      "rowLimit": 10000
     },
     "inputWidgets": {},
     "nuid": "bf3beda9-b1a7-42f1-a4d3-e813a2f53acf",
     "showTitle": false,
     "title": ""
    }
   },
   "outputs": [
    {
     "name": "stdout",
     "output_type": "stream",
     "text": [
      "3562\n"
     ]
    }
   ],
   "source": [
    "random_num = random.sample(list(range(1,4522)),1)[0]\n",
    "print(random_num)"
   ]
  },
  {
   "cell_type": "code",
   "execution_count": 0,
   "metadata": {
    "application/vnd.databricks.v1+cell": {
     "cellMetadata": {
      "byteLimit": 2048000,
      "rowLimit": 10000
     },
     "inputWidgets": {},
     "nuid": "1a7934f4-da34-4141-bee2-020d0125789f",
     "showTitle": false,
     "title": ""
    }
   },
   "outputs": [
    {
     "data": {
      "text/plain": [
       "(44, 6)"
      ]
     },
     "execution_count": 13,
     "metadata": {},
     "output_type": "execute_result"
    }
   ],
   "source": [
    "explore_clusters = works.select('paper_id','original_title') \\\n",
    "    .join(new_topic_labels.select('paper_id','micro_cluster_id'), how='inner', on='paper_id') \\\n",
    "    .join(classification_labels.select('micro_cluster_id','short_label','long_label','keywords'), how='inner', on='micro_cluster_id') \\\n",
    "    .dropDuplicates(subset=['micro_cluster_id']) \\\n",
    "    .sample(0.01).toPandas()\n",
    "\n",
    "explore_clusters.shape"
   ]
  },
  {
   "cell_type": "code",
   "execution_count": 0,
   "metadata": {
    "application/vnd.databricks.v1+cell": {
     "cellMetadata": {
      "byteLimit": 2048000,
      "rowLimit": 10000
     },
     "inputWidgets": {},
     "nuid": "4c188da8-8d96-4ee9-8f91-ca7610d4fe2c",
     "showTitle": false,
     "title": ""
    }
   },
   "outputs": [
    {
     "data": {
      "text/plain": [
       "(135, 6)"
      ]
     },
     "execution_count": 41,
     "metadata": {},
     "output_type": "execute_result"
    }
   ],
   "source": [
    "explore_clusters = works.select('paper_id','original_title') \\\n",
    "    .join(new_topic_labels.select('paper_id','micro_cluster_id'), how='inner', on='paper_id') \\\n",
    "    .join(classification_labels.select('micro_cluster_id','short_label','long_label','keywords'), how='inner', on='micro_cluster_id') \\\n",
    "    .filter(F.col('micro_cluster_id') == 4126) \\\n",
    "    .sample(0.1).toPandas()\n",
    "\n",
    "explore_clusters.shape"
   ]
  },
  {
   "cell_type": "code",
   "execution_count": 0,
   "metadata": {
    "application/vnd.databricks.v1+cell": {
     "cellMetadata": {
      "byteLimit": 2048000,
      "rowLimit": 10000
     },
     "inputWidgets": {},
     "nuid": "9cd61a63-25f0-488b-9727-42152908cecb",
     "showTitle": false,
     "title": ""
    }
   },
   "outputs": [
    {
     "data": {
      "text/html": [
       "<div>\n",
       "<style scoped>\n",
       "    .dataframe tbody tr th:only-of-type {\n",
       "        vertical-align: middle;\n",
       "    }\n",
       "\n",
       "    .dataframe tbody tr th {\n",
       "        vertical-align: top;\n",
       "    }\n",
       "\n",
       "    .dataframe thead th {\n",
       "        text-align: right;\n",
       "    }\n",
       "</style>\n",
       "<table border=\"1\" class=\"dataframe\">\n",
       "  <thead>\n",
       "    <tr style=\"text-align: right;\">\n",
       "      <th></th>\n",
       "      <th>micro_cluster_id</th>\n",
       "      <th>paper_id</th>\n",
       "      <th>original_title</th>\n",
       "      <th>short_label</th>\n",
       "      <th>long_label</th>\n",
       "      <th>keywords</th>\n",
       "    </tr>\n",
       "  </thead>\n",
       "  <tbody>\n",
       "    <tr>\n",
       "      <th>26</th>\n",
       "      <td>97</td>\n",
       "      <td>64757461</td>\n",
       "      <td>Ba 3 B P 3 O 12 : Eu 2 + —A potential scintillation material</td>\n",
       "      <td>Upconversion Nanoparticles</td>\n",
       "      <td>Advances in Upconversion Nanoparticles Research</td>\n",
       "      <td>Upconversion Nanoparticles; Luminescent Materials; Nanocrystal Synthesis; Biological Imaging; Theranostics; Solar Cell Efficiency; Temperature Sensing; Rare Earth Ions; Photon Upconversion; Solid-State Lighting</td>\n",
       "    </tr>\n",
       "    <tr>\n",
       "      <th>33</th>\n",
       "      <td>2594</td>\n",
       "      <td>49993750</td>\n",
       "      <td>Virtual Organizations in Manufacturing: Trends and challenges</td>\n",
       "      <td>Collaborative Networks</td>\n",
       "      <td>Collaborative Networks in Manufacturing and Organizations</td>\n",
       "      <td>Collaborative Networks; Agile Manufacturing; Virtual Enterprise; Interpretive Structural Model; Workforce Agility; Organizational Agility; Total Interpretive Structural Modeling; Enterprise Collaboration; Strategic Framework; Partner Selection</td>\n",
       "    </tr>\n",
       "    <tr>\n",
       "      <th>41</th>\n",
       "      <td>4265</td>\n",
       "      <td>2967074392</td>\n",
       "      <td>The effects of varying dilution levels of wastewater on the cultivation of Spirulina sp.</td>\n",
       "      <td>Social Activity</td>\n",
       "      <td>Social Activity and Health Research</td>\n",
       "      <td>Social Activity; Health Research; Youth; Cancer; Ethnography; Physical Culture; Digital Learning; Socioeconomic Factors; Redox Homeostasis; Socio-Psychological Adaptation</td>\n",
       "    </tr>\n",
       "    <tr>\n",
       "      <th>8</th>\n",
       "      <td>2038</td>\n",
       "      <td>1981379734</td>\n",
       "      <td>Self-concentration effects in preparative SEC of mineral electrolytes using nanoporous neutral polymeric sorbents</td>\n",
       "      <td>Porous Organic Frameworks</td>\n",
       "      <td>Porous Crystalline Organic Frameworks for Energy and Separation Applications</td>\n",
       "      <td>Porous; Crystalline; Organic Frameworks; Covalent; Hydrogen Storage; Methane Storage; Carbon Dioxide Capture; Catalysis; Membrane Separations; Chemical Stability</td>\n",
       "    </tr>\n",
       "    <tr>\n",
       "      <th>28</th>\n",
       "      <td>1393</td>\n",
       "      <td>39054441</td>\n",
       "      <td>IDENTIFICATION METHODS | Immunoassay</td>\n",
       "      <td>Paper-based Diagnostics</td>\n",
       "      <td>Advancements in Paper-Based Diagnostic Devices</td>\n",
       "      <td>Paper-Based Microfluidics; Loop-Mediated Isothermal Amplification; Point-of-Care Diagnostics; Biosensors; Microfluidic Devices; Low-Cost; Portable Bioassays; Nanoparticle-Based Sensors; Infectious Disease Detection; Lab-on-a-Chip</td>\n",
       "    </tr>\n",
       "    <tr>\n",
       "      <th>31</th>\n",
       "      <td>801</td>\n",
       "      <td>6757332</td>\n",
       "      <td>Frequency Effects in Pol-InSAR Forest Height Estimation</td>\n",
       "      <td>SAR Interferometry</td>\n",
       "      <td>Synthetic Aperture Radar Interferometry</td>\n",
       "      <td>SAR Interferometry; Surface Deformation Monitoring; Persistent Scatterers; Digital Elevation Models; InSAR Technique; Land Subsidence; Polarimetric SAR; Forest Biomass Estimation; Urban Development Monitoring; Groundwater Extraction</td>\n",
       "    </tr>\n",
       "    <tr>\n",
       "      <th>38</th>\n",
       "      <td>14</td>\n",
       "      <td>66458591</td>\n",
       "      <td>Environmentally-Induced Oxidative Stress and Its Signaling</td>\n",
       "      <td>Abiotic Stress</td>\n",
       "      <td>Molecular Responses to Abiotic Stress in Plants</td>\n",
       "      <td>Reactive Oxygen Species; Antioxidants; Abiotic Stress; Signal Transduction; Oxidative Stress; Salt Tolerance; Drought Resistance; Plant Responses; Gene Expression; Stress Signaling</td>\n",
       "    </tr>\n",
       "    <tr>\n",
       "      <th>34</th>\n",
       "      <td>2233</td>\n",
       "      <td>887195630</td>\n",
       "      <td>Evaluation of simplifications od 2D models of soil-steel shell bridges</td>\n",
       "      <td>Seismic Tunnel Analysis</td>\n",
       "      <td>Seismic Design and Analysis of Underground Structures</td>\n",
       "      <td>Seismic; Tunnel; Analysis; Earthquake; Damage; Pipeline; Fault; Soil-Structure Interaction; Centrifuge Modeling; Liquefaction</td>\n",
       "    </tr>\n",
       "    <tr>\n",
       "      <th>23</th>\n",
       "      <td>1000</td>\n",
       "      <td>79768915</td>\n",
       "      <td>Infektionspräventions-Check-in und Infektionspräventions-Check-out zur Prävention nosokomialer Infektionen</td>\n",
       "      <td>Infection Control</td>\n",
       "      <td>Infection Control in Healthcare Settings</td>\n",
       "      <td>Infection Control; Hand Hygiene; Healthcare-Associated Infections; Environmental Contamination; Hospital Surfaces; Nosocomial Pathogens; Prevention Strategies; Healthcare Workers; Guidelines; Patient Safety</td>\n",
       "    </tr>\n",
       "    <tr>\n",
       "      <th>25</th>\n",
       "      <td>3714</td>\n",
       "      <td>184345243</td>\n",
       "      <td>Las cuevas con ocupación romana en el noroeste murciano: definición e interpretación</td>\n",
       "      <td>Rural Landscapes</td>\n",
       "      <td>Rural Landscapes in Medieval Iberia</td>\n",
       "      <td>Rural Landscapes; Medieval Architecture; Iberian Peninsula; Early Medieval Churches; Archaeology of Agriculture; Social Organization; Historical Landscape Formation; Hydraulic Systems; Peasant Villages; Commons and Environmental Regulation</td>\n",
       "    </tr>\n",
       "    <tr>\n",
       "      <th>27</th>\n",
       "      <td>3860</td>\n",
       "      <td>1984508399</td>\n",
       "      <td>Fragmento sobre música e linguagem</td>\n",
       "      <td>Performance Studies</td>\n",
       "      <td>Interdisciplinary Study of Performance in Culture</td>\n",
       "      <td>Performance; Theatre; Ritual; Ethnography; Education; Art; Identity; Cultural Politics; Pedagogy; Anthropology</td>\n",
       "    </tr>\n",
       "    <tr>\n",
       "      <th>43</th>\n",
       "      <td>1857</td>\n",
       "      <td>36921719</td>\n",
       "      <td>Córdoba romana: dos décadas de investigación arqueológica</td>\n",
       "      <td>Iberian Archaeology</td>\n",
       "      <td>Archaeology of the Iberian Peninsula</td>\n",
       "      <td>Iberian Peninsula; archaeology; Iron Age; Romanization; Celtic culture; Phoenician influence; numismatics; religious practices; settlement patterns; cultural exchange</td>\n",
       "    </tr>\n",
       "    <tr>\n",
       "      <th>36</th>\n",
       "      <td>1830</td>\n",
       "      <td>175594704</td>\n",
       "      <td>On Statistical Inference with Random Sets</td>\n",
       "      <td>Spatial Point Patterns</td>\n",
       "      <td>Analysis of Spatial Point Patterns in Science</td>\n",
       "      <td>Spatstat; Point Processes; Stereology; Minkowski Inequalities; Hawkes Processes; Convex Bodies; Valuations; Estimation Methods; Neuronal Counting; Statistical Analysis</td>\n",
       "    </tr>\n",
       "    <tr>\n",
       "      <th>39</th>\n",
       "      <td>4065</td>\n",
       "      <td>1995195338</td>\n",
       "      <td>The effect of phosphoethanolamine intake on mortality and macrophage activity in mice with solid ehrlich tumors</td>\n",
       "      <td>Phosphoethanolamine Research</td>\n",
       "      <td>Research on Synthetic Phosphoethanolamine and its Effects</td>\n",
       "      <td>Phosphoethanolamine; Synthetic; Apoptosis; Cancer; Biofertilizers; Anticancer; Metabolic Syndrome; Alzheimer's Disease; Biopesticides; Nanoparticles</td>\n",
       "    </tr>\n",
       "    <tr>\n",
       "      <th>13</th>\n",
       "      <td>4487</td>\n",
       "      <td>1969451365</td>\n",
       "      <td>Présentation</td>\n",
       "      <td>Science Funding Crisis</td>\n",
       "      <td>Impact of Science Funding Crisis in Brazil</td>\n",
       "      <td>Science Funding; Brazilian Scientists; Research Budget Cuts; Scientific Output; Social Media Platforms; Education; Scientific Denialism; Quantum Theory; Scientific Research Design; Social Impact</td>\n",
       "    </tr>\n",
       "    <tr>\n",
       "      <th>24</th>\n",
       "      <td>3469</td>\n",
       "      <td>47503368</td>\n",
       "      <td>Versklavung durch Verbuchhalterung</td>\n",
       "      <td>Collapse and Sustainability</td>\n",
       "      <td>Societal Collapse and Sustainable Development</td>\n",
       "      <td>Collapse; Sustainability; Permaculture; Climate Change; Environmental Policy; Agroecology; Resource Management; Biodiversity Conservation; Global Warming; Resilience</td>\n",
       "    </tr>\n",
       "    <tr>\n",
       "      <th>15</th>\n",
       "      <td>397</td>\n",
       "      <td>25226149</td>\n",
       "      <td>Sarcopenia in critically ill patients: the new pandemia.</td>\n",
       "      <td>Sarcopenia</td>\n",
       "      <td>Sarcopenia: Definition, Diagnosis, and Implications</td>\n",
       "      <td>Sarcopenia; Cancer Cachexia; Muscle Mass; Nutritional Status; Aging; Inflammation; Body Composition; Malnutrition; Physical Function; Prognosis</td>\n",
       "    </tr>\n",
       "    <tr>\n",
       "      <th>29</th>\n",
       "      <td>3547</td>\n",
       "      <td>1708936417</td>\n",
       "      <td>Проблемы экономики и управления предприятиями, отраслями, комплексами (монография)</td>\n",
       "      <td>Innovation Economics</td>\n",
       "      <td>Innovation Economics and Economic Development</td>\n",
       "      <td>Innovation Economics; Economic Development; Industrial Enterprises; Investment; Digital Economy; Leasing; Small Business; Globalization; Sustainability; Entrepreneurship</td>\n",
       "    </tr>\n",
       "    <tr>\n",
       "      <th>6</th>\n",
       "      <td>3725</td>\n",
       "      <td>833077742</td>\n",
       "      <td>Atividade da enzima bromelina emplantas de abacaxi (Ananas comosus L. Merril), sob condições de salinidade in vitro</td>\n",
       "      <td>Bromelain</td>\n",
       "      <td>Biochemistry, Pharmacology, and Medical Use of Bromelain</td>\n",
       "      <td>Bromelain; Pineapple; Protease; Therapeutic Application; Extraction; Anti-inflammatory; Enzyme; Cancer; Purification; Clinical Studies</td>\n",
       "    </tr>\n",
       "    <tr>\n",
       "      <th>9</th>\n",
       "      <td>2882</td>\n",
       "      <td>51350644</td>\n",
       "      <td>Recession May Drive More Adult Students to Take Online Classes.</td>\n",
       "      <td>Psychology and Religion</td>\n",
       "      <td>The Intersection of Psychology and Religion</td>\n",
       "      <td>Psychology; Religion; Unconscious; Archetypes; Mythology; Synchronicity; Collective Unconscious; Spirituality; Cultural Evolution; Trauma</td>\n",
       "    </tr>\n",
       "  </tbody>\n",
       "</table>\n",
       "</div>"
      ],
      "text/plain": [
       "    micro_cluster_id  ...                                                                                                                                                                                                                                             keywords\n",
       "26                97  ...                                   Upconversion Nanoparticles; Luminescent Materials; Nanocrystal Synthesis; Biological Imaging; Theranostics; Solar Cell Efficiency; Temperature Sensing; Rare Earth Ions; Photon Upconversion; Solid-State Lighting\n",
       "33              2594  ...  Collaborative Networks; Agile Manufacturing; Virtual Enterprise; Interpretive Structural Model; Workforce Agility; Organizational Agility; Total Interpretive Structural Modeling; Enterprise Collaboration; Strategic Framework; Partner Selection\n",
       "41              4265  ...                                                                           Social Activity; Health Research; Youth; Cancer; Ethnography; Physical Culture; Digital Learning; Socioeconomic Factors; Redox Homeostasis; Socio-Psychological Adaptation\n",
       "8               2038  ...                                                                                    Porous; Crystalline; Organic Frameworks; Covalent; Hydrogen Storage; Methane Storage; Carbon Dioxide Capture; Catalysis; Membrane Separations; Chemical Stability\n",
       "28              1393  ...                Paper-Based Microfluidics; Loop-Mediated Isothermal Amplification; Point-of-Care Diagnostics; Biosensors; Microfluidic Devices; Low-Cost; Portable Bioassays; Nanoparticle-Based Sensors; Infectious Disease Detection; Lab-on-a-Chip\n",
       "31               801  ...             SAR Interferometry; Surface Deformation Monitoring; Persistent Scatterers; Digital Elevation Models; InSAR Technique; Land Subsidence; Polarimetric SAR; Forest Biomass Estimation; Urban Development Monitoring; Groundwater Extraction\n",
       "38                14  ...                                                                 Reactive Oxygen Species; Antioxidants; Abiotic Stress; Signal Transduction; Oxidative Stress; Salt Tolerance; Drought Resistance; Plant Responses; Gene Expression; Stress Signaling\n",
       "34              2233  ...                                                                                                                        Seismic; Tunnel; Analysis; Earthquake; Damage; Pipeline; Fault; Soil-Structure Interaction; Centrifuge Modeling; Liquefaction\n",
       "23              1000  ...                                       Infection Control; Hand Hygiene; Healthcare-Associated Infections; Environmental Contamination; Hospital Surfaces; Nosocomial Pathogens; Prevention Strategies; Healthcare Workers; Guidelines; Patient Safety\n",
       "25              3714  ...      Rural Landscapes; Medieval Architecture; Iberian Peninsula; Early Medieval Churches; Archaeology of Agriculture; Social Organization; Historical Landscape Formation; Hydraulic Systems; Peasant Villages; Commons and Environmental Regulation\n",
       "27              3860  ...                                                                                                                                       Performance; Theatre; Ritual; Ethnography; Education; Art; Identity; Cultural Politics; Pedagogy; Anthropology\n",
       "43              1857  ...                                                                               Iberian Peninsula; archaeology; Iron Age; Romanization; Celtic culture; Phoenician influence; numismatics; religious practices; settlement patterns; cultural exchange\n",
       "36              1830  ...                                                                              Spatstat; Point Processes; Stereology; Minkowski Inequalities; Hawkes Processes; Convex Bodies; Valuations; Estimation Methods; Neuronal Counting; Statistical Analysis\n",
       "39              4065  ...                                                                                                 Phosphoethanolamine; Synthetic; Apoptosis; Cancer; Biofertilizers; Anticancer; Metabolic Syndrome; Alzheimer's Disease; Biopesticides; Nanoparticles\n",
       "13              4487  ...                                                   Science Funding; Brazilian Scientists; Research Budget Cuts; Scientific Output; Social Media Platforms; Education; Scientific Denialism; Quantum Theory; Scientific Research Design; Social Impact\n",
       "24              3469  ...                                                                                Collapse; Sustainability; Permaculture; Climate Change; Environmental Policy; Agroecology; Resource Management; Biodiversity Conservation; Global Warming; Resilience\n",
       "15               397  ...                                                                                                      Sarcopenia; Cancer Cachexia; Muscle Mass; Nutritional Status; Aging; Inflammation; Body Composition; Malnutrition; Physical Function; Prognosis\n",
       "29              3547  ...                                                                            Innovation Economics; Economic Development; Industrial Enterprises; Investment; Digital Economy; Leasing; Small Business; Globalization; Sustainability; Entrepreneurship\n",
       "6               3725  ...                                                                                                               Bromelain; Pineapple; Protease; Therapeutic Application; Extraction; Anti-inflammatory; Enzyme; Cancer; Purification; Clinical Studies\n",
       "9               2882  ...                                                                                                            Psychology; Religion; Unconscious; Archetypes; Mythology; Synchronicity; Collective Unconscious; Spirituality; Cultural Evolution; Trauma\n",
       "\n",
       "[20 rows x 6 columns]"
      ]
     },
     "execution_count": 14,
     "metadata": {},
     "output_type": "execute_result"
    }
   ],
   "source": [
    "explore_clusters.sample(20)"
   ]
  },
  {
   "cell_type": "code",
   "execution_count": 0,
   "metadata": {
    "application/vnd.databricks.v1+cell": {
     "cellMetadata": {},
     "inputWidgets": {},
     "nuid": "f545b058-2dac-45b0-b6cc-f70273f0af9e",
     "showTitle": false,
     "title": ""
    }
   },
   "outputs": [],
   "source": []
  }
 ],
 "metadata": {
  "application/vnd.databricks.v1+notebook": {
   "dashboards": [],
   "language": "python",
   "notebookMetadata": {
    "pythonIndentUnit": 4
   },
   "notebookName": "concepts_cwts_explore_new",
   "widgets": {}
  },
  "kernelspec": {
   "display_name": "Python 3 (ipykernel)",
   "language": "python",
   "name": "python3"
  },
  "language_info": {
   "codemirror_mode": {
    "name": "ipython",
    "version": 3
   },
   "file_extension": ".py",
   "mimetype": "text/x-python",
   "name": "python",
   "nbconvert_exporter": "python",
   "pygments_lexer": "ipython3",
   "version": "3.9.18"
  }
 },
 "nbformat": 4,
 "nbformat_minor": 1
}
