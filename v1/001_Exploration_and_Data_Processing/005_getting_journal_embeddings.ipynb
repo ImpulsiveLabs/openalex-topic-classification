{
 "cells": [
  {
   "cell_type": "code",
   "execution_count": 32,
   "id": "b340b3a8",
   "metadata": {},
   "outputs": [],
   "source": [
    "import json\n",
    "import pickle\n",
    "import pandas as pd\n",
    "import unicodedata\n",
    "pd.set_option('display.max_colwidth', None)\n",
    "import numpy as np\n",
    "import random\n",
    "from sentence_transformers import SentenceTransformer"
   ]
  },
  {
   "cell_type": "code",
   "execution_count": 33,
   "id": "f116699f",
   "metadata": {},
   "outputs": [],
   "source": [
    "def name_to_keep_ind(groups):\n",
    "    groups_to_skip = ['HIRAGANA', 'CJK', 'KATAKANA','ARABIC', 'HANGUL', 'THAI','DEVANAGARI','BENGALI',\n",
    "                      'THAANA','GUJARATI','CYRILLIC']\n",
    "    \n",
    "    if any(x in groups_to_skip for x in groups):\n",
    "        return 0\n",
    "    else:\n",
    "        return 1\n",
    "    \n",
    "def group_non_latin_characters(text):\n",
    "    groups = []\n",
    "    latin_chars = []\n",
    "    text = text.replace(\".\", \"\").replace(\" \", \"\")\n",
    "    for char in text:\n",
    "        try:\n",
    "            script = unicodedata.name(char).split(\" \")[0]\n",
    "            if script == 'LATIN':\n",
    "                latin_chars.append(script)\n",
    "            else:\n",
    "                if script not in groups:\n",
    "                    groups.append(script)\n",
    "        except:\n",
    "            if \"UNK\" not in groups:\n",
    "                groups.append(\"UNK\")\n",
    "    return groups, len(latin_chars)\n",
    "\n",
    "def check_for_non_latin_characters(text):\n",
    "    groups, latin_chars = group_non_latin_characters(str(text))\n",
    "    if name_to_keep_ind(groups) == 1:\n",
    "        return 1\n",
    "    elif latin_chars > 20:\n",
    "        return 1\n",
    "    else:\n",
    "        return 0"
   ]
  },
  {
   "cell_type": "code",
   "execution_count": 34,
   "id": "a4924e14",
   "metadata": {},
   "outputs": [],
   "source": [
    "def get_journal_emb(journal_name, emb):\n",
    "    if check_for_non_latin_characters(journal_name) == 1:\n",
    "        return emb\n",
    "    else:\n",
    "        return np.zeros(384, dtype=np.float32)"
   ]
  },
  {
   "cell_type": "code",
   "execution_count": 4,
   "id": "ec0ce0a7",
   "metadata": {},
   "outputs": [],
   "source": [
    "def save_pickle(dictionary, file_path):\n",
    "    # Save the dictionary as a pickle file\n",
    "    with open(file_path, 'wb') as f:\n",
    "        pickle.dump(dictionary, f)"
   ]
  },
  {
   "cell_type": "code",
   "execution_count": 46,
   "id": "27cf36ce",
   "metadata": {},
   "outputs": [],
   "source": [
    "emb_model = SentenceTransformer('sentence-transformers/all-MiniLM-L6-v2')"
   ]
  },
  {
   "cell_type": "code",
   "execution_count": 16,
   "id": "1813e893",
   "metadata": {},
   "outputs": [
    {
     "name": "stderr",
     "output_type": "stream",
     "text": [
      "/var/folders/0y/qwpqbvg153501mb_wr8l1nrc0000gn/T/ipykernel_36884/2208432226.py:1: DtypeWarning: Columns (14,37) have mixed types. Specify dtype option on import or set low_memory=False.\n",
      "  journal_data = pd.read_csv(\"journal_202312261335.csv\")[['journal_id','display_name']].dropna()\n"
     ]
    },
    {
     "data": {
      "text/plain": [
       "(250179, 2)"
      ]
     },
     "execution_count": 16,
     "metadata": {},
     "output_type": "execute_result"
    }
   ],
   "source": [
    "journal_data = pd.read_csv(\"{data_which_contains_all_openalex-journal_ids_and_name}\")\\\n",
    "    [['journal_id','display_name']].dropna()\n",
    "journal_data.shape"
   ]
  },
  {
   "cell_type": "markdown",
   "id": "50088c9f",
   "metadata": {},
   "source": [
    "#### Preprocessing the journal names"
   ]
  },
  {
   "cell_type": "code",
   "execution_count": 29,
   "id": "e454f316",
   "metadata": {},
   "outputs": [],
   "source": [
    "journal_data['display_name'] = journal_data['display_name'].apply(lambda x: x.strip())\n",
    "journal_data = journal_data[~journal_data['display_name'].str.contains('eBooks')].copy()\n",
    "journal_data['non_latin'] = journal_data['display_name'].apply(check_for_non_latin_characters)\n",
    "journal_data = journal_data[journal_data['non_latin']==1].copy()"
   ]
  },
  {
   "cell_type": "markdown",
   "id": "ad724562",
   "metadata": {},
   "source": [
    "##### Using all-MiniLM-L6-v2 to create an embedding for each journal"
   ]
  },
  {
   "cell_type": "code",
   "execution_count": 49,
   "id": "a3d0bf3b",
   "metadata": {},
   "outputs": [],
   "source": [
    "journal_embs = emb_model.encode(journal_data['display_name'].tolist())"
   ]
  },
  {
   "cell_type": "code",
   "execution_count": 50,
   "id": "f0e6f79e",
   "metadata": {},
   "outputs": [],
   "source": [
    "journal_data['emb'] = journal_embs.tolist()"
   ]
  },
  {
   "cell_type": "code",
   "execution_count": null,
   "id": "63d34a36",
   "metadata": {},
   "outputs": [],
   "source": [
    "journal_data['emb'] = journal_data.apply(lambda x: get_journal_emb(x.display_name, x.emb), axis=1)"
   ]
  },
  {
   "cell_type": "code",
   "execution_count": 12,
   "id": "2f83d377",
   "metadata": {},
   "outputs": [],
   "source": [
    "journal_embs = {x:y for x,y in zip(journal_data['journal_id'].tolist(), \n",
    "                                   journal_data['emb'].tolist())}"
   ]
  },
  {
   "cell_type": "code",
   "execution_count": 13,
   "id": "a783a3f2",
   "metadata": {},
   "outputs": [],
   "source": [
    "_ = save_pickle(journal_embs, './journal_embs.pkl')"
   ]
  },
  {
   "cell_type": "code",
   "execution_count": null,
   "id": "7f889d62",
   "metadata": {},
   "outputs": [],
   "source": []
  }
 ],
 "metadata": {
  "kernelspec": {
   "display_name": "Python 3 (ipykernel)",
   "language": "python",
   "name": "python3"
  },
  "language_info": {
   "codemirror_mode": {
    "name": "ipython",
    "version": 3
   },
   "file_extension": ".py",
   "mimetype": "text/x-python",
   "name": "python",
   "nbconvert_exporter": "python",
   "pygments_lexer": "ipython3",
   "version": "3.9.18"
  }
 },
 "nbformat": 4,
 "nbformat_minor": 5
}
