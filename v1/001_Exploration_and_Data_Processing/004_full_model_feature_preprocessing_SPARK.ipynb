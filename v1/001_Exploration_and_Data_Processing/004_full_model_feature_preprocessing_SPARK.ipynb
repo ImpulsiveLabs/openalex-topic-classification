{
 "cells": [
  {
   "cell_type": "code",
   "execution_count": 0,
   "metadata": {
    "application/vnd.databricks.v1+cell": {
     "cellMetadata": {
      "byteLimit": 2048000,
      "rowLimit": 10000
     },
     "inputWidgets": {},
     "nuid": "44920190-9120-4ae8-858f-14f52b073315",
     "showTitle": false,
     "title": ""
    }
   },
   "outputs": [],
   "source": [
    "import pickle\n",
    "import boto3\n",
    "import re\n",
    "import json\n",
    "import pandas as pd\n",
    "import unicodedata\n",
    "pd.set_option('display.max_colwidth', None)\n",
    "import numpy as np\n",
    "import matplotlib.pyplot as plt"
   ]
  },
  {
   "cell_type": "code",
   "execution_count": 0,
   "metadata": {
    "application/vnd.databricks.v1+cell": {
     "cellMetadata": {
      "byteLimit": 2048000,
      "rowLimit": 10000
     },
     "inputWidgets": {},
     "nuid": "2ba961a2-7e64-4844-8d78-c47e5f47c752",
     "showTitle": false,
     "title": ""
    }
   },
   "outputs": [],
   "source": [
    "from pyspark.sql import functions as F\n",
    "from pyspark.sql.window import Window\n",
    "from pyspark.sql.types import IntegerType, StringType, FloatType, ArrayType, DoubleType, StructType, StructField,LongType"
   ]
  },
  {
   "cell_type": "code",
   "execution_count": 0,
   "metadata": {
    "application/vnd.databricks.v1+cell": {
     "cellMetadata": {
      "byteLimit": 2048000,
      "rowLimit": 10000
     },
     "inputWidgets": {},
     "nuid": "5f29191d-1059-4a1a-a42b-0a11e8599c1f",
     "showTitle": false,
     "title": ""
    }
   },
   "outputs": [],
   "source": [
    "base_save_path = \"{save_path_for_openalex_tables}\"\n",
    "iteration_save_path = \"{save_path_for_most_data}\"\n",
    "model_save_path = \"{higher_level_iteration_save_path}\""
   ]
  },
  {
   "cell_type": "markdown",
   "metadata": {
    "application/vnd.databricks.v1+cell": {
     "cellMetadata": {},
     "inputWidgets": {},
     "nuid": "47f9abef-de4b-45bd-8d74-3d30740105f2",
     "showTitle": false,
     "title": ""
    }
   },
   "source": [
    "### Getting all data"
   ]
  },
  {
   "cell_type": "code",
   "execution_count": 0,
   "metadata": {
    "application/vnd.databricks.v1+cell": {
     "cellMetadata": {
      "byteLimit": 2048000,
      "rowLimit": 10000
     },
     "inputWidgets": {},
     "nuid": "f3ac5ec3-42ae-4d60-ab64-a195564fe3cf",
     "showTitle": false,
     "title": ""
    }
   },
   "outputs": [
    {
     "data": {
      "text/plain": [
       "4521"
      ]
     },
     "execution_count": 4,
     "metadata": {},
     "output_type": "execute_result"
    }
   ],
   "source": [
    "classification_labels = spark.read.parquet(f'{model_data_path}topic_labels_data_from_cwts_new')\n",
    "classification_labels.cache().count()"
   ]
  },
  {
   "cell_type": "code",
   "execution_count": 0,
   "metadata": {
    "application/vnd.databricks.v1+cell": {
     "cellMetadata": {
      "byteLimit": 2048000,
      "rowLimit": 10000
     },
     "inputWidgets": {},
     "nuid": "984e3d11-7fd2-4a73-a1af-2af63dd55abe",
     "showTitle": false,
     "title": ""
    }
   },
   "outputs": [
    {
     "name": "stdout",
     "output_type": "stream",
     "text": [
      "+----------------+-----------------+-------------------------------------+--------------------------------------------------------------------------------------------------------------------------------------------------+-------------------------------------------------------------------------------------------------------------------------------------------------------------------------------------------------------------------------------------------------------------------------------------------------------------------------------------------------------------------------------------------------------------------------------+-----------------------------------------------+\n",
      "|micro_cluster_id|short_label      |long_label                           |keywords                                                                                                                                          |summary                                                                                                                                                                                                                                                                                                                                                                                                                        |wikipedia_url                                  |\n",
      "+----------------+-----------------+-------------------------------------+--------------------------------------------------------------------------------------------------------------------------------------------------+-------------------------------------------------------------------------------------------------------------------------------------------------------------------------------------------------------------------------------------------------------------------------------------------------------------------------------------------------------------------------------------------------------------------------------+-----------------------------------------------+\n",
      "|1104            |Collective Memory|Study of Collective Memory and Trauma|Collective Memory; Trauma; Dark Tourism; Cultural Trauma; Memory Studies; Holocaust; Postmemory; Heritage Tourism; Thanatourism; Mediated Memories|This cluster of papers explores the study of collective memory, trauma, and dark tourism, with a focus on topics such as cultural trauma, postmemory, heritage tourism, and mediated memories. It delves into the ways in which societies remember and commemorate historical events, particularly traumatic ones like the Holocaust, and how these memories are manifested in various forms of tourism and cultural practices.|https://en.wikipedia.org/wiki/Collective_memory|\n",
      "+----------------+-----------------+-------------------------------------+--------------------------------------------------------------------------------------------------------------------------------------------------+-------------------------------------------------------------------------------------------------------------------------------------------------------------------------------------------------------------------------------------------------------------------------------------------------------------------------------------------------------------------------------------------------------------------------------+-----------------------------------------------+\n",
      "only showing top 1 row\n",
      "\n"
     ]
    }
   ],
   "source": [
    "classification_labels.sample(0.1).show(1, truncate=False)"
   ]
  },
  {
   "cell_type": "code",
   "execution_count": 0,
   "metadata": {
    "application/vnd.databricks.v1+cell": {
     "cellMetadata": {
      "byteLimit": 2048000,
      "rowLimit": 10000
     },
     "inputWidgets": {},
     "nuid": "aa5a6ba8-a5ab-4af9-8151-d9e019f31325",
     "showTitle": false,
     "title": ""
    }
   },
   "outputs": [
    {
     "data": {
      "text/plain": [
       "12559467"
      ]
     },
     "execution_count": 10,
     "metadata": {},
     "output_type": "execute_result"
    }
   ],
   "source": [
    "work_merges = spark.read.parquet(f\"{iteration_save_path[:-15]}/work_merges_dist\")\\\n",
    "    .select('paper_id',F.col('merge_into_id').alias('paper_id_merge_into')).dropDuplicates(subset=['paper_id'])\n",
    "work_merges.cache().count()"
   ]
  },
  {
   "cell_type": "code",
   "execution_count": 0,
   "metadata": {
    "application/vnd.databricks.v1+cell": {
     "cellMetadata": {
      "byteLimit": 2048000,
      "rowLimit": 10000
     },
     "inputWidgets": {},
     "nuid": "8e490758-57ab-4be1-9d56-e7a0789ab1a9",
     "showTitle": false,
     "title": ""
    }
   },
   "outputs": [
    {
     "data": {
      "text/plain": [
       "70674439"
      ]
     },
     "execution_count": 11,
     "metadata": {},
     "output_type": "execute_result"
    }
   ],
   "source": [
    "new_topic_labels = spark.read.parquet(f'{model_data_path}topics_data_from_cwts_new') \\\n",
    "        .select(F.col('work_id').cast(LongType()).alias('paper_id'), \n",
    "                F.col('macro_cluster_id').cast(IntegerType()),\n",
    "                F.col('meso_cluster_id').cast(IntegerType()),\n",
    "                F.col('micro_cluster_id').cast(IntegerType())) \\\n",
    "        .filter(F.col('paper_id').isNotNull() & \n",
    "                F.col('macro_cluster_id').isNotNull() & \n",
    "                F.col('meso_cluster_id').isNotNull() & \n",
    "                F.col('micro_cluster_id').isNotNull()) \\\n",
    "        .join(classification_labels, how='inner', on='micro_cluster_id') \\\n",
    "        .join(work_merges, how='left', on='paper_id') \\\n",
    "        .withColumn('new_paper_id', F.when(F.col('paper_id_merge_into').isNotNull(), \n",
    "                                           F.col('paper_id_merge_into')).otherwise(F.col('paper_id'))) \\\n",
    "        .select('micro_cluster_id', F.col('new_paper_id').alias('paper_id'), 'macro_cluster_id', 'meso_cluster_id', \n",
    "                'short_label', 'long_label', 'keywords', 'summary', 'wikipedia_url')\n",
    "        \n",
    "new_topic_labels.cache().count()"
   ]
  },
  {
   "cell_type": "code",
   "execution_count": 0,
   "metadata": {
    "application/vnd.databricks.v1+cell": {
     "cellMetadata": {
      "byteLimit": 2048000,
      "rowLimit": 10000
     },
     "inputWidgets": {},
     "nuid": "c6ac545d-f628-4c63-bd8c-4b4f9f7fe489",
     "showTitle": false,
     "title": ""
    }
   },
   "outputs": [
    {
     "name": "stdout",
     "output_type": "stream",
     "text": [
      "+----------+----------+\n",
      "|max(count)|min(count)|\n",
      "+----------+----------+\n",
      "|    167455|      1000|\n",
      "+----------+----------+\n",
      "\n"
     ]
    }
   ],
   "source": [
    "new_topic_labels.groupby('micro_cluster_id').count().select(F.max('count'), F.min('count')).show()"
   ]
  },
  {
   "cell_type": "markdown",
   "metadata": {},
   "source": [
    "### Getting Gold Citations"
   ]
  },
  {
   "cell_type": "markdown",
   "metadata": {},
   "source": [
    "In order to create features based on the citation graph, we decided to create \"gold\" citations which are pretty much the most highly-cited papers for each micro_cluster_id or topic. So in order to get the gold citations, we grouped all papers based on their topic label (from CWTS). We then grouped all referenced papers and ranked based on how many times that reference paper was cited. We took the top X from each topic and called those our gold citations. We also removed papers that were highly cited across a lot of different topic using the \"within_clust_per\" variable calculated above.\n",
    "\n",
    "For the actual features that are going into the model, we created lists of gold citations for each paper that were either directly cited (1 edge away) or cited in a reference paper (2 edges away). The gold citations will be fed into a neural net as an embedding so that the model can learn a representation of the gold citation."
   ]
  },
  {
   "cell_type": "code",
   "execution_count": 0,
   "metadata": {
    "application/vnd.databricks.v1+cell": {
     "cellMetadata": {
      "byteLimit": 2048000,
      "rowLimit": 10000
     },
     "inputWidgets": {},
     "nuid": "9aca1568-939c-41e7-802e-331e3a31cf27",
     "showTitle": false,
     "title": ""
    }
   },
   "outputs": [],
   "source": [
    "@udf(returnType=IntegerType())\n",
    "def get_number_of_core_citations_for_cluster(citation_count):\n",
    "    \"\"\"\n",
    "    This function calculates how many gold citations a topic can have based on the amount of labeled\n",
    "    data available (so the size of the cluster). For larger clusters, we allowed for a larger number\n",
    "    of gold citations.\n",
    "    \"\"\"\n",
    "    min_core_cites = 25\n",
    "    max_core_cites = 75\n",
    "\n",
    "    scale_per = (citation_count - 1000) / (167455 - 1000)\n",
    "    \n",
    "    return int(min_core_cites + (max_core_cites - min_core_cites)*scale_per)"
   ]
  },
  {
   "cell_type": "code",
   "execution_count": 0,
   "metadata": {
    "application/vnd.databricks.v1+cell": {
     "cellMetadata": {
      "byteLimit": 2048000,
      "rowLimit": 10000
     },
     "inputWidgets": {},
     "nuid": "03ff1a83-2c04-4911-b105-9317628a83fa",
     "showTitle": false,
     "title": ""
    }
   },
   "outputs": [],
   "source": [
    "cite_counts_to_use = topic_counts \\\n",
    "    .withColumn('cite_counts_thresh', get_number_of_core_citations_for_cluster(F.col('count'))) \\\n",
    "    .select('micro_cluster_id', 'cite_counts_thresh')"
   ]
  },
  {
   "cell_type": "code",
   "execution_count": null,
   "metadata": {},
   "outputs": [],
   "source": [
    "new_citations = spark.read.parquet(f\"{iteration_save_path[:-15]}/new_work_citations\") \\\n",
    "    .dropDuplicates()\n",
    "\n",
    "citations = spark.read.parquet(f\"{base_save_path}static_citations\") \\\n",
    "    .union(new_citations.select('paper_id','paper_reference_id')) \\\n",
    "    .dropDuplicates() \\\n",
    "    .join(new_topic_labels, how='inner', on='paper_id') \\\n",
    "    .select('paper_id', 'paper_reference_id', \n",
    "            F.col('micro_cluster_id').alias('micro_paper'))\n",
    "\n",
    "citations.cache().count()"
   ]
  },
  {
   "cell_type": "code",
   "execution_count": 0,
   "metadata": {
    "application/vnd.databricks.v1+cell": {
     "cellMetadata": {
      "byteLimit": 2048000,
      "rowLimit": 10000
     },
     "inputWidgets": {},
     "nuid": "7162bdb6-2ee0-4516-afb1-c07c1ff1e2b6",
     "showTitle": false,
     "title": ""
    }
   },
   "outputs": [
    {
     "data": {
      "text/plain": [
       "75675000"
      ]
     },
     "execution_count": 37,
     "metadata": {},
     "output_type": "execute_result"
    }
   ],
   "source": [
    "overall_group_by = citations \\\n",
    "    .groupBy('paper_reference_id') \\\n",
    "    .agg(F.size(F.collect_set(F.col('paper_id'))).alias('total_citations'))\n",
    "\n",
    "overall_group_by.cache().count()"
   ]
  },
  {
   "cell_type": "code",
   "execution_count": 0,
   "metadata": {
    "application/vnd.databricks.v1+cell": {
     "cellMetadata": {
      "byteLimit": 2048000,
      "rowLimit": 10000
     },
     "inputWidgets": {},
     "nuid": "4a986c88-d91a-4a3c-b63b-b40c385deec8",
     "showTitle": false,
     "title": ""
    }
   },
   "outputs": [
    {
     "data": {
      "text/plain": [
       "368318699"
      ]
     },
     "execution_count": 38,
     "metadata": {},
     "output_type": "execute_result"
    }
   ],
   "source": [
    "grouped_citations = citations \\\n",
    "    .groupBy(['paper_reference_id','micro_paper']) \\\n",
    "    .agg(F.size(F.collect_set(F.col('paper_id'))).alias('num_citations')) \\\n",
    "    .join(overall_group_by, how='inner', on='paper_reference_id') \\\n",
    "    .withColumn('within_clust_per', F.col('num_citations')/F.col('total_citations'))\n",
    "\n",
    "grouped_citations.cache().count()"
   ]
  },
  {
   "cell_type": "code",
   "execution_count": 0,
   "metadata": {
    "application/vnd.databricks.v1+cell": {
     "cellMetadata": {
      "byteLimit": 2048000,
      "rowLimit": 10000
     },
     "inputWidgets": {},
     "nuid": "e617d34a-6027-499a-aa2e-effd6a515c17",
     "showTitle": false,
     "title": ""
    }
   },
   "outputs": [
    {
     "data": {
      "text/plain": [
       "182468281"
      ]
     },
     "execution_count": 46,
     "metadata": {},
     "output_type": "execute_result"
    }
   ],
   "source": [
    "w1 = Window.partitionBy(['micro_cluster_id']).orderBy(F.col('num_citations').desc())\n",
    "\n",
    "gold_citations = grouped_citations \\\n",
    "    .select('paper_reference_id', F.col('micro_paper').alias('micro_cluster_id'), \n",
    "            'num_citations', 'within_clust_per') \\\n",
    "    .withColumn('cluster_citation_rank', F.row_number().over(w1)) \\\n",
    "    .join(cite_counts_to_use, how='inner', on='micro_cluster_id') \\\n",
    "    .filter(F.col('within_clust_per')>0.05)\n",
    "\n",
    "gold_citations.cache().count()"
   ]
  },
  {
   "cell_type": "markdown",
   "metadata": {},
   "source": [
    "The following code takes only the top X (number determined by function above) gold citations for each topic. In some cases, the threshold is greater than the number of gold citations available for a given topic so in that case we just used all of the gold citations for that topic."
   ]
  },
  {
   "cell_type": "code",
   "execution_count": 0,
   "metadata": {
    "application/vnd.databricks.v1+cell": {
     "cellMetadata": {
      "byteLimit": 2048000,
      "rowLimit": 10000
     },
     "inputWidgets": {},
     "nuid": "2c4b72db-cef0-4e4b-8af7-8578644b167a",
     "showTitle": false,
     "title": ""
    }
   },
   "outputs": [],
   "source": [
    "gold_citations.filter(F.col('cluster_citation_rank')<=F.col('cite_counts_thresh')) \\\n",
    "    .select(F.col('paper_reference_id').alias('gold_citation'),'micro_cluster_id','num_citations','within_clust_per') \\\n",
    "    .write.mode('overwrite') \\\n",
    "    .parquet(f'{iteration_save_path}gold_citation_papers')"
   ]
  },
  {
   "cell_type": "code",
   "execution_count": 0,
   "metadata": {
    "application/vnd.databricks.v1+cell": {
     "cellMetadata": {
      "byteLimit": 2048000,
      "rowLimit": 10000
     },
     "inputWidgets": {},
     "nuid": "b3a6603c-69bd-40f2-85f2-364e2f15381c",
     "showTitle": false,
     "title": ""
    }
   },
   "outputs": [],
   "source": [
    "spark.read.parquet(f'{iteration_save_path}gold_citation_papers') \\\n",
    "    .coalesce(1) \\\n",
    "    .write.mode('overwrite') \\\n",
    "    .parquet(f'{iteration_save_path}gold_citation_papers_single_file')"
   ]
  },
  {
   "cell_type": "markdown",
   "metadata": {
    "application/vnd.databricks.v1+cell": {
     "cellMetadata": {},
     "inputWidgets": {},
     "nuid": "c301e2e5-c08f-4478-9322-98489819f680",
     "showTitle": false,
     "title": ""
    }
   },
   "source": [
    "### Using Gold Citations to Create Features"
   ]
  },
  {
   "cell_type": "markdown",
   "metadata": {},
   "source": [
    "##### Looking at the total number of gold citations"
   ]
  },
  {
   "cell_type": "code",
   "execution_count": 0,
   "metadata": {
    "application/vnd.databricks.v1+cell": {
     "cellMetadata": {
      "byteLimit": 2048000,
      "rowLimit": 10000
     },
     "inputWidgets": {},
     "nuid": "2d17c799-04e7-491d-8888-3f6bab6a6b21",
     "showTitle": false,
     "title": ""
    }
   },
   "outputs": [
    {
     "data": {
      "text/plain": [
       "124577"
      ]
     },
     "execution_count": 49,
     "metadata": {},
     "output_type": "execute_result"
    }
   ],
   "source": [
    "gold_citation_papers = spark.read.parquet(f'{iteration_save_path}gold_citation_papers').dropDuplicates(subset=['gold_citation']) \\\n",
    "    .select(F.col('gold_citation').alias('paper_reference_id'), 'micro_cluster_id','within_clust_per')\n",
    "gold_citation_papers.cache().count()"
   ]
  },
  {
   "cell_type": "markdown",
   "metadata": {},
   "source": [
    "##### Looking at the minimum and maximum number of gold citations for each topic"
   ]
  },
  {
   "cell_type": "code",
   "execution_count": 0,
   "metadata": {
    "application/vnd.databricks.v1+cell": {
     "cellMetadata": {
      "byteLimit": 2048000,
      "rowLimit": 10000
     },
     "inputWidgets": {},
     "nuid": "31e566ab-d7c9-4fcd-b738-de62eb642248",
     "showTitle": false,
     "title": ""
    }
   },
   "outputs": [
    {
     "name": "stdout",
     "output_type": "stream",
     "text": [
      "+----------+----------+\n",
      "|min(count)|max(count)|\n",
      "+----------+----------+\n",
      "|        11|        75|\n",
      "+----------+----------+\n",
      "\n"
     ]
    }
   ],
   "source": [
    "gold_citation_papers.groupBy('micro_cluster_id').count().select(F.min('count'), F.max('count')).show()"
   ]
  },
  {
   "cell_type": "code",
   "execution_count": 0,
   "metadata": {
    "application/vnd.databricks.v1+cell": {
     "cellMetadata": {
      "byteLimit": 2048000,
      "rowLimit": 10000
     },
     "inputWidgets": {},
     "nuid": "169b8557-11ae-4a3d-958c-ea66bc4153f1",
     "showTitle": false,
     "title": ""
    }
   },
   "outputs": [],
   "source": [
    "citations_1 = citations.alias('citations_1').select('paper_id','paper_reference_id')\n",
    "citations_2 = citations.alias('citations_2').select('paper_id','paper_reference_id')"
   ]
  },
  {
   "cell_type": "markdown",
   "metadata": {},
   "source": [
    "##### Creating level 0 citation feature (gold citation is directly referenced in the paper, i.e., 1 edge away)"
   ]
  },
  {
   "cell_type": "code",
   "execution_count": 0,
   "metadata": {
    "application/vnd.databricks.v1+cell": {
     "cellMetadata": {
      "byteLimit": 2048000,
      "rowLimit": 10000
     },
     "inputWidgets": {},
     "nuid": "9f37a223-31e5-40b8-839f-b8e234ce5c12",
     "showTitle": false,
     "title": ""
    }
   },
   "outputs": [],
   "source": [
    "level_0 = citations.select('paper_id').dropDuplicates()\\\n",
    "    .join(citations_1.join(gold_citation_papers, how='inner', on='paper_reference_id'), \n",
    "           how='left', on='paper_id')\n",
    "\n",
    "level_0.groupby('paper_id').agg(F.collect_set(F.col('paper_reference_id')).alias('gold_cites')) \\\n",
    "    .write.mode('overwrite') \\\n",
    "    .parquet(f'{iteration_save_path}level_0_citation_links')"
   ]
  },
  {
   "cell_type": "code",
   "execution_count": 0,
   "metadata": {
    "application/vnd.databricks.v1+cell": {
     "cellMetadata": {
      "byteLimit": 2048000,
      "rowLimit": 10000
     },
     "inputWidgets": {},
     "nuid": "89659cf5-667e-4627-80a0-d0fbbe1a4dcb",
     "showTitle": false,
     "title": ""
    }
   },
   "outputs": [
    {
     "data": {
      "text/plain": [
       "59807180"
      ]
     },
     "execution_count": 53,
     "metadata": {},
     "output_type": "execute_result"
    }
   ],
   "source": [
    "spark.read.parquet(f'{iteration_save_path}level_0_citation_links').count()"
   ]
  },
  {
   "cell_type": "code",
   "execution_count": 0,
   "metadata": {
    "application/vnd.databricks.v1+cell": {
     "cellMetadata": {
      "byteLimit": 2048000,
      "rowLimit": 10000
     },
     "inputWidgets": {},
     "nuid": "c13e1dd8-1922-4a13-973d-f583cd6e2ecb",
     "showTitle": false,
     "title": ""
    }
   },
   "outputs": [
    {
     "name": "stdout",
     "output_type": "stream",
     "text": [
      "+----------+--------------------+\n",
      "|  paper_id|          gold_cites|\n",
      "+----------+--------------------+\n",
      "| 114003884|                  []|\n",
      "| 118302687|                  []|\n",
      "| 149839387|                  []|\n",
      "| 318348859|                  []|\n",
      "| 571605520|[2149863032, 2105...|\n",
      "| 589554927|                  []|\n",
      "| 614453582|                  []|\n",
      "| 885093613|                  []|\n",
      "| 901667683|                  []|\n",
      "|1198778148|        [2164748597]|\n",
      "|1491458199|[2088864916, 1965...|\n",
      "|1513977309|                  []|\n",
      "|1514179409|[1715752662, 2002...|\n",
      "|1529113798|                  []|\n",
      "|1534823655|[2102463240, 5943...|\n",
      "|1554441443|[4292280330, 3115...|\n",
      "|1571911914|                  []|\n",
      "|1595689375|[2264936970, 2160...|\n",
      "|1901106884|        [2025613329]|\n",
      "|1939317862|                  []|\n",
      "|1963923169|                  []|\n",
      "|1964429642|[2083005745, 2162...|\n",
      "|1965385091|                  []|\n",
      "|1966097699|                  []|\n",
      "|1969820049|[2112355650, 2159...|\n",
      "|1969850333|[4244280225, 4298...|\n",
      "|1972924757|[2091516966, 2167...|\n",
      "|1973794776|[2154149901, 2055...|\n",
      "|1977370253|[2005221293, 2103...|\n",
      "|1978078318|        [2121907296]|\n",
      "|1979364608|        [2059934579]|\n",
      "|1982384152|                  []|\n",
      "|1982826082|                  []|\n",
      "|1983628324|[2099614709, 1953...|\n",
      "|1991886190|        [1991112797]|\n",
      "|1992985246|                  []|\n",
      "|1996461506|[1972512148, 2047...|\n",
      "|1998448118|[2073697610, 2030...|\n",
      "|2001365568|                  []|\n",
      "|2001706804|                  []|\n",
      "+----------+--------------------+\n",
      "only showing top 40 rows\n",
      "\n"
     ]
    }
   ],
   "source": [
    "spark.read.parquet(f'{iteration_save_path}level_0_citation_links').sample(0.001).show(40)"
   ]
  },
  {
   "cell_type": "code",
   "execution_count": 0,
   "metadata": {
    "application/vnd.databricks.v1+cell": {
     "cellMetadata": {
      "byteLimit": 2048000,
      "rowLimit": 10000
     },
     "inputWidgets": {},
     "nuid": "124aac6f-2ae4-4234-8c58-233c0bb0f7ce",
     "showTitle": false,
     "title": ""
    }
   },
   "outputs": [
    {
     "data": {
      "text/plain": [
       "59807180"
      ]
     },
     "execution_count": 55,
     "metadata": {},
     "output_type": "execute_result"
    }
   ],
   "source": [
    "level_0_citations = spark.read.parquet(f'{iteration_save_path}level_0_citation_links') \\\n",
    "    .select('paper_id', F.col('gold_cites').alias('level_0_links'))\n",
    "level_0_citations.cache().count()"
   ]
  },
  {
   "cell_type": "markdown",
   "metadata": {},
   "source": [
    "##### Creating level 1 citation feature (gold citation is cited in a referenced paper, i.e.,2 edges away)"
   ]
  },
  {
   "cell_type": "code",
   "execution_count": 0,
   "metadata": {
    "application/vnd.databricks.v1+cell": {
     "cellMetadata": {
      "byteLimit": 2048000,
      "rowLimit": 10000
     },
     "inputWidgets": {},
     "nuid": "1a0bdbd9-f3a6-428f-86c2-ca11e7ee3f84",
     "showTitle": false,
     "title": ""
    }
   },
   "outputs": [],
   "source": [
    "level_1 = citations.select('paper_id').dropDuplicates()\\\n",
    "    .join(citations_1, how='left', on='paper_id') \\\n",
    "    .select(F.col('paper_id').alias('original_paper_id'), \n",
    "            F.col('paper_reference_id').alias('paper_id')) \\\n",
    "    .join(citations_2.join(gold_citation_papers, how='inner', on='paper_reference_id'), \n",
    "           how='left', on='paper_id')\n",
    "\n",
    "level_1.groupby('original_paper_id').agg(F.collect_set(F.col('paper_reference_id')).alias('gold_cites')) \\\n",
    "    .write.mode('overwrite') \\\n",
    "    .parquet(f'{iteration_save_path}level_1_citation_links')"
   ]
  },
  {
   "cell_type": "code",
   "execution_count": 0,
   "metadata": {
    "application/vnd.databricks.v1+cell": {
     "cellMetadata": {
      "byteLimit": 2048000,
      "rowLimit": 10000
     },
     "inputWidgets": {},
     "nuid": "56f87b91-86fb-40b0-a9ec-adb0d096557e",
     "showTitle": false,
     "title": ""
    }
   },
   "outputs": [
    {
     "data": {
      "text/plain": [
       "59807180"
      ]
     },
     "execution_count": 57,
     "metadata": {},
     "output_type": "execute_result"
    }
   ],
   "source": [
    "level_1_citations = spark.read.parquet(f'{iteration_save_path}level_1_citation_links') \\\n",
    "    .select(F.col('original_paper_id').alias('paper_id'), F.col('gold_cites').alias('level_1_links'))\n",
    "level_1_citations.cache().count()"
   ]
  },
  {
   "cell_type": "code",
   "execution_count": 0,
   "metadata": {
    "application/vnd.databricks.v1+cell": {
     "cellMetadata": {
      "byteLimit": 2048000,
      "rowLimit": 10000
     },
     "inputWidgets": {},
     "nuid": "fd072d05-f374-4296-8d77-78f68cad8035",
     "showTitle": false,
     "title": ""
    }
   },
   "outputs": [
    {
     "name": "stdout",
     "output_type": "stream",
     "text": [
      "+-----------------+--------------------+\n",
      "|original_paper_id|          gold_cites|\n",
      "+-----------------+--------------------+\n",
      "|         55610713|                  []|\n",
      "|         68910409|[391578156, 19838...|\n",
      "|        117585249|[4256153703, 1516...|\n",
      "|        134638304|                  []|\n",
      "|        175965146|                  []|\n",
      "|        196092515|[2911865844, 2088...|\n",
      "|        251029635|[1603121691, 2131...|\n",
      "|        810677605|[2154820256, 2097...|\n",
      "|        895993603|                  []|\n",
      "|       1491467088|[2007180942, 1507...|\n",
      "|       1507661821|[2053186076, 2040...|\n",
      "|       1532856579|[2148548654, 2162...|\n",
      "|       1533791920|[1997252211, 2115...|\n",
      "|       1546224377|[2058717577, 2152...|\n",
      "|       1571056597|[2165847290, 2005...|\n",
      "|       1582319857|[2080274663, 2014...|\n",
      "|       1584196799|[2089218510, 2134...|\n",
      "|       1593786842|[2128672031, 2105...|\n",
      "|       1599515711|                  []|\n",
      "|       1600996141|[1974718993, 2069...|\n",
      "|       1623015207|                  []|\n",
      "|       1716779573|                  []|\n",
      "|       1755698809|[2121950611, 4238...|\n",
      "|       1782225088|                  []|\n",
      "|       1786575356|[2125391335, 1969...|\n",
      "|       1791450857|[2079387691, 1985...|\n",
      "|       1937587271|[2071124826, 2073...|\n",
      "|       1962750278|                  []|\n",
      "|       1964077305|                  []|\n",
      "|       1965824491|[4240580964, 4247...|\n",
      "|       1969864292|[2062221814, 2027...|\n",
      "|       1970026815|[2052872977, 2049...|\n",
      "|       1970419432|[1971354656, 2004...|\n",
      "|       1971783203|        [2140472579]|\n",
      "|       1977314977|[2086216948, 2060...|\n",
      "|       1977771459|                  []|\n",
      "|       1987445012|[2092757816, 2064...|\n",
      "|       1989044126|[1979766176, 4205...|\n",
      "|       1990326111|[1988592246, 2274...|\n",
      "|       1991722428|        [1926950498]|\n",
      "+-----------------+--------------------+\n",
      "only showing top 40 rows\n",
      "\n"
     ]
    }
   ],
   "source": [
    "spark.read.parquet(f'{iteration_save_path}level_1_citation_links').sample(0.001).show(40)"
   ]
  },
  {
   "cell_type": "code",
   "execution_count": 0,
   "metadata": {
    "application/vnd.databricks.v1+cell": {
     "cellMetadata": {
      "byteLimit": 2048000,
      "rowLimit": 10000
     },
     "inputWidgets": {},
     "nuid": "16c2730f-1c3d-4630-91e3-6be7e0f68a67",
     "showTitle": false,
     "title": ""
    }
   },
   "outputs": [],
   "source": [
    "@udf(returnType=ArrayType(LongType()))\n",
    "def move_level_0_to_1(level_0, level_1):\n",
    "    \"\"\"\n",
    "    We move all level 0 citations to level 1 as well since we want to make sure that both features have a\n",
    "    value if the level 0 feature is present.\n",
    "    \"\"\"\n",
    "    return list(set(level_0 + level_1))"
   ]
  },
  {
   "cell_type": "code",
   "execution_count": 0,
   "metadata": {
    "application/vnd.databricks.v1+cell": {
     "cellMetadata": {
      "byteLimit": 2048000,
      "rowLimit": 10000
     },
     "inputWidgets": {},
     "nuid": "951afea3-c41c-4a2e-9132-0c5bee65d8a7",
     "showTitle": false,
     "title": ""
    }
   },
   "outputs": [],
   "source": [
    "level_0_citations \\\n",
    "    .join(level_1_citations, how='inner', on='paper_id') \\\n",
    "    .withColumn('final_level_1', move_level_0_to_1(F.col('level_0_links'), F.col('level_1_links'))) \\\n",
    "    .select('paper_id', 'level_0_links', F.col('final_level_1').alias('level_1_links')) \\\n",
    "    .write.mode('overwrite') \\\n",
    "    .parquet(f'{iteration_save_path}all_citation_features')"
   ]
  },
  {
   "cell_type": "markdown",
   "metadata": {},
   "source": [
    "##### Looking to see how much of the training data will have citation features"
   ]
  },
  {
   "cell_type": "code",
   "execution_count": null,
   "metadata": {
    "application/vnd.databricks.v1+cell": {
     "cellMetadata": {
      "byteLimit": 2048000,
      "rowLimit": 10000
     },
     "inputWidgets": {},
     "nuid": "163e9cfd-a07a-490c-9147-fefa08ee72c6",
     "showTitle": false,
     "title": ""
    }
   },
   "outputs": [],
   "source": [
    "spark.read.parquet(f'{iteration_save_path}all_citation_features') \\\n",
    "    .withColumn('L0_size', F.size(F.col('level_0_links'))) \\\n",
    "    .withColumn('L1_size', F.size(F.col('level_1_links'))) \\\n",
    "    .filter(F.col('L0_size')>0).count()"
   ]
  },
  {
   "cell_type": "code",
   "execution_count": null,
   "metadata": {
    "application/vnd.databricks.v1+cell": {
     "cellMetadata": {
      "byteLimit": 2048000,
      "rowLimit": 10000
     },
     "inputWidgets": {},
     "nuid": "d67273f2-5eb5-4588-bc86-0e63731fd3fc",
     "showTitle": false,
     "title": ""
    }
   },
   "outputs": [],
   "source": [
    "spark.read.parquet(f'{iteration_save_path}all_citation_features') \\\n",
    "    .withColumn('L0_size', F.size(F.col('level_0_links'))) \\\n",
    "    .withColumn('L1_size', F.size(F.col('level_1_links'))) \\\n",
    "    .filter(F.col('L1_size')>0).count()"
   ]
  },
  {
   "cell_type": "markdown",
   "metadata": {},
   "source": [
    "### Pulling all data into one dataframe"
   ]
  },
  {
   "cell_type": "code",
   "execution_count": 0,
   "metadata": {
    "application/vnd.databricks.v1+cell": {
     "cellMetadata": {
      "byteLimit": 2048000,
      "rowLimit": 10000
     },
     "inputWidgets": {},
     "nuid": "e2b77557-30f5-40c6-ac24-b79d1edbb937",
     "showTitle": false,
     "title": ""
    }
   },
   "outputs": [
    {
     "data": {
      "text/plain": [
       "247623528"
      ]
     },
     "execution_count": 63,
     "metadata": {},
     "output_type": "execute_result"
    }
   ],
   "source": [
    "new_works = spark.read.parquet(f\"{model_save_path}new_work_titles\") \\\n",
    "    .dropDuplicates(subset=['paper_id'])\n",
    "\n",
    "works = spark.read.parquet(f\"{base_save_path}static_works\") \\\n",
    "    .select(*new_works.columns) \\\n",
    "    .union(new_works) \\\n",
    "    .select('paper_id','original_title','publication_date','journal_id') \\\n",
    "    .dropDuplicates(subset=['paper_id'])\n",
    "\n",
    "\n",
    "works.cache().count()"
   ]
  },
  {
   "cell_type": "code",
   "execution_count": 0,
   "metadata": {
    "application/vnd.databricks.v1+cell": {
     "cellMetadata": {
      "byteLimit": 2048000,
      "rowLimit": 10000
     },
     "inputWidgets": {},
     "nuid": "81df645c-22b4-447f-bf13-5978374fb51c",
     "showTitle": false,
     "title": ""
    }
   },
   "outputs": [
    {
     "data": {
      "text/plain": [
       "133620738"
      ]
     },
     "execution_count": 64,
     "metadata": {},
     "output_type": "execute_result"
    }
   ],
   "source": [
    "new_abstracts = spark.read.parquet(f\"{model_save_path}new_work_abstracts\") \\\n",
    "    .dropDuplicates(subset=['paper_id'])\n",
    "\n",
    "abstracts = spark.read.parquet(f\"{base_save_path}static_abstracts\") \\\n",
    "    .select('paper_id', 'abstract') \\\n",
    "    .union(new_abstracts.select('paper_id','abstract')) \\\n",
    "    .dropDuplicates(subset=['paper_id'])\n",
    "\n",
    "abstracts.cache().count()"
   ]
  },
  {
   "cell_type": "code",
   "execution_count": 0,
   "metadata": {
    "application/vnd.databricks.v1+cell": {
     "cellMetadata": {
      "byteLimit": 2048000,
      "rowLimit": 10000
     },
     "inputWidgets": {},
     "nuid": "757b2271-3b33-4173-9c71-e6d96be96e8e",
     "showTitle": false,
     "title": ""
    }
   },
   "outputs": [
    {
     "data": {
      "text/plain": [
       "59807180"
      ]
     },
     "execution_count": 65,
     "metadata": {},
     "output_type": "execute_result"
    }
   ],
   "source": [
    "citation_features = spark.read.parquet(f'{iteration_save_path}all_citation_features')\n",
    "citation_features.cache().count()"
   ]
  },
  {
   "cell_type": "code",
   "execution_count": 0,
   "metadata": {
    "application/vnd.databricks.v1+cell": {
     "cellMetadata": {
      "byteLimit": 2048000,
      "rowLimit": 10000
     },
     "inputWidgets": {},
     "nuid": "fa662736-db57-4f4c-bf3e-80b7c2211b85",
     "showTitle": false,
     "title": ""
    }
   },
   "outputs": [],
   "source": [
    "works \\\n",
    "    .join(new_topic_labels.select('paper_id','micro_cluster_id','short_label','long_label','keywords'), \n",
    "          how='inner', on='paper_id') \\\n",
    "    .join(citation_features, how='left', on='paper_id') \\\n",
    "    .join(abstracts, how='left', on='paper_id') \\\n",
    "    .write.mode('overwrite') \\\n",
    "    .parquet(f\"{iteration_save_path}all_training_data/\")"
   ]
  },
  {
   "cell_type": "markdown",
   "metadata": {
    "application/vnd.databricks.v1+cell": {
     "cellMetadata": {},
     "inputWidgets": {},
     "nuid": "1bc88e0a-f835-4184-b41d-7a63401ded50",
     "showTitle": false,
     "title": ""
    }
   },
   "source": [
    "## Transforming Data"
   ]
  },
  {
   "cell_type": "markdown",
   "metadata": {},
   "source": [
    "##### The following functions are used to determine if the title can be used and also to transform the text of the title if necessary"
   ]
  },
  {
   "cell_type": "code",
   "execution_count": 0,
   "metadata": {
    "application/vnd.databricks.v1+cell": {
     "cellMetadata": {
      "byteLimit": 2048000,
      "rowLimit": 10000
     },
     "inputWidgets": {},
     "nuid": "0d98c8a1-f2b6-434b-90aa-8ebbedbf7162",
     "showTitle": false,
     "title": ""
    }
   },
   "outputs": [],
   "source": [
    "def name_to_keep_ind(groups):\n",
    "    groups_to_skip = ['HIRAGANA', 'CJK', 'KATAKANA','ARABIC', 'HANGUL', 'THAI','DEVANAGARI','BENGALI',\n",
    "                      'THAANA','GUJARATI','CYRILLIC']\n",
    "    \n",
    "    if any(x in groups_to_skip for x in groups):\n",
    "        return 0\n",
    "    else:\n",
    "        return 1\n",
    "    \n",
    "def group_non_latin_characters(text):\n",
    "    groups = []\n",
    "    latin_chars = []\n",
    "    text = text.replace(\".\", \"\").replace(\" \", \"\")\n",
    "    for char in text:\n",
    "        try:\n",
    "            script = unicodedata.name(char).split(\" \")[0]\n",
    "            if script == 'LATIN':\n",
    "                latin_chars.append(script)\n",
    "            else:\n",
    "                if script not in groups:\n",
    "                    groups.append(script)\n",
    "        except:\n",
    "            if \"UNK\" not in groups:\n",
    "                groups.append(\"UNK\")\n",
    "    return groups, len(latin_chars)\n",
    "\n",
    "def remove_non_latin_characters(text):\n",
    "    final_char = []\n",
    "    groups_to_skip = ['HIRAGANA', 'CJK', 'KATAKANA','ARABIC', 'HANGUL', 'THAI','DEVANAGARI','BENGALI',\n",
    "                      'THAANA','GUJARATI','CYRILLIC']\n",
    "    for char in text:\n",
    "        try:\n",
    "            script = unicodedata.name(char).split(\" \")[0]\n",
    "            if script not in groups_to_skip:\n",
    "                final_char.append(char)\n",
    "        except:\n",
    "            pass\n",
    "    return \"\".join(final_char)\n",
    "\n",
    "@udf(returnType=IntegerType())\n",
    "def check_for_non_latin_characters(text):\n",
    "    groups, latin_chars = group_non_latin_characters(text)\n",
    "    if name_to_keep_ind(groups) == 1:\n",
    "        return 1\n",
    "    elif latin_chars > 30:\n",
    "        return 1\n",
    "    else:\n",
    "        return 0\n",
    "    \n",
    "@udf(returnType=StringType())\n",
    "def clean_title(old_title, keep_title):\n",
    "    if keep_title:\n",
    "        new_title = remove_non_latin_characters(old_title)\n",
    "        if '<' in new_title:\n",
    "            new_title = new_title.replace(\"<i>\", \"\").replace(\"</i>\",\"\")\\\n",
    "                                 .replace(\"<sub>\", \"\").replace(\"</sub>\",\"\") \\\n",
    "                                 .replace(\"<sup>\", \"\").replace(\"</sup>\",\"\") \\\n",
    "                                 .replace(\"<em>\", \"\").replace(\"</em>\",\"\") \\\n",
    "                                 .replace(\"<b>\", \"\").replace(\"</b>\",\"\") \\\n",
    "                                 .replace(\"<I>\", \"\").replace(\"</I>\", \"\") \\\n",
    "                                 .replace(\"<SUB>\", \"\").replace(\"</SUB>\", \"\") \\\n",
    "                                 .replace(\"<scp>\", \"\").replace(\"</scp>\", \"\") \\\n",
    "                                 .replace(\"<font>\", \"\").replace(\"</font>\", \"\") \\\n",
    "                                 .replace(\"<inf>\",\"\").replace(\"</inf>\", \"\") \\\n",
    "                                 .replace(\"<i /> \", \"\") \\\n",
    "                                 .replace(\"<p>\", \"\").replace(\"</p>\",\"\") \\\n",
    "                                 .replace(\"<![CDATA[<B>\", \"\").replace(\"</B>]]>\", \"\") \\\n",
    "                                 .replace(\"<italic>\", \"\").replace(\"</italic>\",\"\")\\\n",
    "                                 .replace(\"<title>\", \"\").replace(\"</title>\", \"\") \\\n",
    "                                 .replace(\"<br>\", \"\").replace(\"</br>\",\"\").replace(\"<br/>\",\"\") \\\n",
    "                                 .replace(\"<B>\", \"\").replace(\"</B>\", \"\") \\\n",
    "                                 .replace(\"<em>\", \"\").replace(\"</em>\", \"\") \\\n",
    "                                 .replace(\"<BR>\", \"\").replace(\"</BR>\", \"\") \\\n",
    "                                 .replace(\"<title>\", \"\").replace(\"</title>\", \"\") \\\n",
    "                                 .replace(\"<strong>\", \"\").replace(\"</strong>\", \"\") \\\n",
    "                                 .replace(\"<formula>\", \"\").replace(\"</formula>\", \"\") \\\n",
    "                                 .replace(\"<roman>\", \"\").replace(\"</roman>\", \"\") \\\n",
    "                                 .replace(\"<SUP>\", \"\").replace(\"</SUP>\", \"\") \\\n",
    "                                 .replace(\"<SSUP>\", \"\").replace(\"</SSUP>\", \"\") \\\n",
    "                                 .replace(\"<sc>\", \"\").replace(\"</sc>\", \"\") \\\n",
    "                                 .replace(\"<subtitle>\", \"\").replace(\"</subtitle>\", \"\") \\\n",
    "                                 .replace(\"<emph/>\", \"\").replace(\"<emph>\", \"\").replace(\"</emph>\", \"\") \\\n",
    "                                 .replace(\"\"\"<p class=\"Body\">\"\"\", \"\") \\\n",
    "                                 .replace(\"<TITLE>\", \"\").replace(\"</TITLE>\", \"\") \\\n",
    "                                 .replace(\"<sub />\", \"\").replace(\"<sub/>\", \"\") \\\n",
    "                                 .replace(\"<mi>\", \"\").replace(\"</mi>\", \"\") \\\n",
    "                                 .replace(\"<bold>\", \"\").replace(\"</bold>\", \"\") \\\n",
    "                                 .replace(\"<mtext>\", \"\").replace(\"</mtext>\", \"\") \\\n",
    "                                 .replace(\"<msub>\", \"\").replace(\"</msub>\", \"\") \\\n",
    "                                 .replace(\"<mrow>\", \"\").replace(\"</mrow>\", \"\") \\\n",
    "                                 .replace(\"</mfenced>\", \"\").replace(\"</math>\", \"\")\n",
    "\n",
    "            if '<mml' in new_title:\n",
    "                all_parts = [x for y in [i.split(\"mml:math>\") for i in new_title.split(\"<mml:math\")] for x in y if x]\n",
    "                final_parts = []\n",
    "                for part in all_parts:\n",
    "                    if re.search(r\"\\>[$%#!^*\\w.,/()+-]*\\<\", part):\n",
    "                        pull_out = re.findall(r\"\\>[$%#!^*\\w.,/()+-]*\\<\", part)\n",
    "                        final_pieces = []\n",
    "                        for piece in pull_out:\n",
    "                            final_pieces.append(piece.replace(\">\", \"\").replace(\"<\", \"\"))\n",
    "                        \n",
    "                        final_parts.append(\" \"+ \"\".join(final_pieces) + \" \")\n",
    "                    else:\n",
    "                        final_parts.append(part)\n",
    "                \n",
    "                new_title = \"\".join(final_parts).strip()\n",
    "            else:\n",
    "                pass\n",
    "\n",
    "            if '<xref' in new_title:\n",
    "                new_title = re.sub(r\"\\<xref[^/]*\\/xref\\>\", \"\", new_title)\n",
    "\n",
    "            if '<inline-formula' in new_title:\n",
    "                new_title = re.sub(r\"\\<inline-formula[^/]*\\/inline-formula\\>\", \"\", new_title)\n",
    "\n",
    "            if '<title' in new_title:\n",
    "                new_title = re.sub(r\"\\<title[^/]*\\/title\\>\", \"\", new_title)\n",
    "\n",
    "            if '<p class=' in new_title:\n",
    "                new_title = re.sub(r\"\\<p class=[^>]*\\>\", \"\", new_title)\n",
    "            \n",
    "            if '<span class=' in new_title:\n",
    "                new_title = re.sub(r\"\\<span class=[^>]*\\>\", \"\", new_title)\n",
    "\n",
    "            if 'mfenced open' in new_title:\n",
    "                new_title = re.sub(r\"\\<mfenced open=[^>]*\\>\", \"\", new_title)\n",
    "            \n",
    "            if 'math xmlns' in new_title:\n",
    "                new_title = re.sub(r\"\\<math xmlns=[^>]*\\>\", \"\", new_title)\n",
    "\n",
    "        if '<' in new_title:\n",
    "            new_title = new_title.replace(\">i<\", \"\").replace(\">/i<\", \"\") \\\n",
    "                                 .replace(\">b<\", \"\").replace(\">/b<\", \"\") \\\n",
    "                                 .replace(\"<inline-formula>\", \"\").replace(\"</inline-formula>\",\"\")\n",
    "\n",
    "        return new_title\n",
    "    else:\n",
    "        return ''"
   ]
  },
  {
   "cell_type": "code",
   "execution_count": 0,
   "metadata": {
    "application/vnd.databricks.v1+cell": {
     "cellMetadata": {
      "byteLimit": 2048000,
      "rowLimit": 10000
     },
     "inputWidgets": {},
     "nuid": "a27e3b60-5524-4b32-a583-dfaf9d3c8191",
     "showTitle": false,
     "title": ""
    }
   },
   "outputs": [],
   "source": [
    "def invert_abstract_to_abstract(invert_abstract):\n",
    "    invert_abstract = json.loads(invert_abstract)\n",
    "    ab_len = invert_abstract['IndexLength']\n",
    "    \n",
    "    if 30 < ab_len < 1000:\n",
    "        abstract = [\" \"]*ab_len\n",
    "        for key, value in invert_abstract['InvertedIndex'].items():\n",
    "            for i in value:\n",
    "                abstract[i] = key\n",
    "        final_abstract = \" \".join(abstract)\n",
    "    else:\n",
    "        final_abstract = None\n",
    "    return final_abstract\n",
    "\n",
    "def clean_abstract(abstract, inverted=True):\n",
    "    if inverted:\n",
    "        if abstract:\n",
    "            abstract = invert_abstract_to_abstract(abstract)\n",
    "        else:\n",
    "            pass\n",
    "    else:\n",
    "        pass\n",
    "#     abstract = clean_text(abstract)\n",
    "    return abstract\n",
    "\n",
    "def clean_text(text):\n",
    "    try:\n",
    "        text = text.lower()\n",
    "\n",
    "        text = re.sub('[^a-zA-Z0-9 ]+', ' ', text)\n",
    "        text = re.sub(' +', ' ', text)\n",
    "        text = text.strip()\n",
    "        \n",
    "    except:\n",
    "        text = \"\"\n",
    "    return text"
   ]
  },
  {
   "cell_type": "code",
   "execution_count": 0,
   "metadata": {
    "application/vnd.databricks.v1+cell": {
     "cellMetadata": {
      "byteLimit": 2048000,
      "rowLimit": 10000
     },
     "inputWidgets": {},
     "nuid": "c38c6aa9-a864-446a-95a3-b4add2fc7736",
     "showTitle": false,
     "title": ""
    }
   },
   "outputs": [],
   "source": [
    "@udf(returnType=ArrayType(LongType()))\n",
    "def get_final_citations_feature(curr_cites):\n",
    "    if isinstance(curr_cites, list):\n",
    "        return curr_cites\n",
    "    else:\n",
    "        return []"
   ]
  },
  {
   "cell_type": "code",
   "execution_count": 0,
   "metadata": {
    "application/vnd.databricks.v1+cell": {
     "cellMetadata": {
      "byteLimit": 2048000,
      "rowLimit": 10000
     },
     "inputWidgets": {},
     "nuid": "7a6f68bc-0e8f-4345-808b-60d2a64830f4",
     "showTitle": false,
     "title": ""
    }
   },
   "outputs": [],
   "source": [
    "w2 = Window.partitionBy('micro_cluster_id').orderBy('random_num')"
   ]
  },
  {
   "cell_type": "code",
   "execution_count": 0,
   "metadata": {
    "application/vnd.databricks.v1+cell": {
     "cellMetadata": {
      "byteLimit": 2048000,
      "rowLimit": 10000
     },
     "inputWidgets": {},
     "nuid": "8cf6d823-d99d-477c-b7ab-4eb359757832",
     "showTitle": false,
     "title": ""
    }
   },
   "outputs": [
    {
     "data": {
      "text/plain": [
       "70674439"
      ]
     },
     "execution_count": 71,
     "metadata": {},
     "output_type": "execute_result"
    }
   ],
   "source": [
    "spark.read.parquet(f\"{iteration_save_path}all_training_data/\").count()"
   ]
  },
  {
   "cell_type": "code",
   "execution_count": 0,
   "metadata": {
    "application/vnd.databricks.v1+cell": {
     "cellMetadata": {
      "byteLimit": 2048000,
      "rowLimit": 10000
     },
     "inputWidgets": {},
     "nuid": "2b008445-11c0-4bd9-8a82-d86b2d25b512",
     "showTitle": false,
     "title": ""
    }
   },
   "outputs": [],
   "source": [
    "spark.read.parquet(f\"{iteration_save_path}all_training_data/\") \\\n",
    "    .withColumn('random_num', F.rand()) \\\n",
    "    .withColumn('cluster_rank', F.row_number().over(w2)) \\\n",
    "    .filter(F.col('cluster_rank')<=1000) \\\n",
    "    .withColumn('keep_title', check_for_non_latin_characters(F.col('original_title')))\\\n",
    "    .withColumn('new_title', clean_title(F.col('original_title'), F.col('keep_title'))) \\\n",
    "    .withColumn('final_level_0_links', get_final_citations_feature(F.col('level_0_links'))) \\\n",
    "    .withColumn('final_level_1_links', get_final_citations_feature(F.col('level_1_links'))) \\\n",
    "    .write.mode('overwrite') \\\n",
    "    .parquet(f\"{iteration_save_path}all_training_data_subset/\")"
   ]
  },
  {
   "cell_type": "code",
   "execution_count": 0,
   "metadata": {
    "application/vnd.databricks.v1+cell": {
     "cellMetadata": {
      "byteLimit": 2048000,
      "rowLimit": 10000
     },
     "inputWidgets": {},
     "nuid": "21afd01e-be54-4a35-b6fa-0d2d37a73869",
     "showTitle": false,
     "title": ""
    }
   },
   "outputs": [
    {
     "data": {
      "text/plain": [
       "4521000"
      ]
     },
     "execution_count": 75,
     "metadata": {},
     "output_type": "execute_result"
    }
   ],
   "source": [
    "spark.read.parquet(f\"{iteration_save_path}all_training_data_subset/\").count()"
   ]
  },
  {
   "cell_type": "markdown",
   "metadata": {},
   "source": [
    "##### Checking to see how big the citation features need to be in order to make use of most of the data"
   ]
  },
  {
   "cell_type": "code",
   "execution_count": 0,
   "metadata": {
    "application/vnd.databricks.v1+cell": {
     "cellMetadata": {
      "byteLimit": 2048000,
      "rowLimit": 10000
     },
     "inputWidgets": {},
     "nuid": "eb5bf2c8-ec48-4101-9eb6-2239fcad0c0f",
     "showTitle": false,
     "title": ""
    }
   },
   "outputs": [],
   "source": [
    "# 8 max len for level_0\n",
    "# 128 max len for level_1\n",
    "\n",
    "link_features = spark.read.parquet(f\"{iteration_save_path}all_training_data_subset/\") \\\n",
    "    .withColumn('cite_0_len', F.size(F.col('level_0_links'))) \\\n",
    "    .withColumn('cite_1_len', F.size(F.col('level_1_links'))) \\\n",
    "    .select('cite_0_len','cite_1_len').toPandas()"
   ]
  },
  {
   "cell_type": "code",
   "execution_count": 0,
   "metadata": {
    "application/vnd.databricks.v1+cell": {
     "cellMetadata": {
      "byteLimit": 2048000,
      "rowLimit": 10000
     },
     "inputWidgets": {},
     "nuid": "ef0426a4-c960-4fda-b3b6-c1e247d0ab9d",
     "showTitle": false,
     "title": ""
    }
   },
   "outputs": [
    {
     "data": {
      "text/plain": [
       "(4521000, 2)"
      ]
     },
     "execution_count": 75,
     "metadata": {},
     "output_type": "execute_result"
    }
   ],
   "source": [
    "link_features.shape"
   ]
  },
  {
   "cell_type": "code",
   "execution_count": 0,
   "metadata": {
    "application/vnd.databricks.v1+cell": {
     "cellMetadata": {
      "byteLimit": 2048000,
      "rowLimit": 10000
     },
     "inputWidgets": {},
     "nuid": "a030f95d-b5fc-4122-8458-9785d2215c77",
     "showTitle": false,
     "title": ""
    }
   },
   "outputs": [
    {
     "data": {
      "text/plain": [
       "0.9968918380889183"
      ]
     },
     "execution_count": 83,
     "metadata": {},
     "output_type": "execute_result"
    }
   ],
   "source": [
    "link_features[link_features['cite_0_len']<16].shape[0]/link_features.shape[0]"
   ]
  },
  {
   "cell_type": "code",
   "execution_count": 0,
   "metadata": {
    "application/vnd.databricks.v1+cell": {
     "cellMetadata": {
      "byteLimit": 2048000,
      "rowLimit": 10000
     },
     "inputWidgets": {},
     "nuid": "96da0be0-b657-4263-af40-5a5c830b6fbb",
     "showTitle": false,
     "title": ""
    }
   },
   "outputs": [
    {
     "data": {
      "text/plain": [
       "0.9675266533952666"
      ]
     },
     "execution_count": 82,
     "metadata": {},
     "output_type": "execute_result"
    }
   ],
   "source": [
    "link_features[link_features['cite_1_len']<128].shape[0]/link_features.shape[0]"
   ]
  },
  {
   "cell_type": "markdown",
   "metadata": {},
   "source": [
    "##### Saving training data to single file so that it can be used on a single machine"
   ]
  },
  {
   "cell_type": "code",
   "execution_count": 0,
   "metadata": {
    "application/vnd.databricks.v1+cell": {
     "cellMetadata": {
      "byteLimit": 2048000,
      "rowLimit": 10000
     },
     "inputWidgets": {},
     "nuid": "3c5e092b-9151-4457-b7aa-92602c36cd6b",
     "showTitle": false,
     "title": ""
    }
   },
   "outputs": [],
   "source": [
    "spark.read.parquet(f\"{iteration_save_path}all_training_data_subset/\") \\\n",
    "    .select('paper_id','publication_date', 'journal_id', 'final_level_0_links', 'final_level_1_links', \n",
    "            'abstract', 'micro_cluster_id', 'short_label', 'long_label', 'keywords', \n",
    "            'new_title')\\\n",
    "    .coalesce(1) \\\n",
    "    .write.mode('overwrite') \\\n",
    "    .parquet(f\"{iteration_save_path}all_training_data_subset_single_file/\")"
   ]
  }
 ],
 "metadata": {
  "application/vnd.databricks.v1+notebook": {
   "dashboards": [],
   "language": "python",
   "notebookMetadata": {
    "pythonIndentUnit": 4
   },
   "notebookName": "concepts_citation_graph_model",
   "widgets": {}
  },
  "kernelspec": {
   "display_name": "Python 3 (ipykernel)",
   "language": "python",
   "name": "python3"
  },
  "language_info": {
   "codemirror_mode": {
    "name": "ipython",
    "version": 3
   },
   "file_extension": ".py",
   "mimetype": "text/x-python",
   "name": "python",
   "nbconvert_exporter": "python",
   "pygments_lexer": "ipython3",
   "version": "3.9.18"
  }
 },
 "nbformat": 4,
 "nbformat_minor": 1
}
